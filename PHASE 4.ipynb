{
  "nbformat": 4,
  "nbformat_minor": 0,
  "metadata": {
    "colab": {
      "name": "Stock Trend Classification.ipynb",
      "provenance": []
    },
    "kernelspec": {
      "name": "python3",
      "display_name": "Python 3"
    },
    "language_info": {
      "name": "python"
    }
  },
  "cells": [
    {
      "cell_type": "markdown",
      "source": [
        "# **STOCK TREND CLASSIFICATION USING DIFFERENT ML ALGORITHMS**"
      ],
      "metadata": {
        "id": "zOR0FOBcUsBn"
      }
    },
    {
      "cell_type": "code",
      "execution_count": null,
      "metadata": {
        "colab": {
          "base_uri": "https://localhost:8080/"
        },
        "id": "zsf62i3refdn",
        "outputId": "98911a0a-6bf5-4473-f5a9-a4ad2347ba35"
      },
      "outputs": [
        {
          "output_type": "stream",
          "name": "stdout",
          "text": [
            "Requirement already satisfied: yfinance in /usr/local/lib/python3.7/dist-packages (0.1.70)\n",
            "Requirement already satisfied: multitasking>=0.0.7 in /usr/local/lib/python3.7/dist-packages (from yfinance) (0.0.10)\n",
            "Requirement already satisfied: requests>=2.26 in /usr/local/lib/python3.7/dist-packages (from yfinance) (2.27.1)\n",
            "Requirement already satisfied: lxml>=4.5.1 in /usr/local/lib/python3.7/dist-packages (from yfinance) (4.8.0)\n",
            "Requirement already satisfied: numpy>=1.15 in /usr/local/lib/python3.7/dist-packages (from yfinance) (1.21.5)\n",
            "Requirement already satisfied: pandas>=0.24.0 in /usr/local/lib/python3.7/dist-packages (from yfinance) (1.3.5)\n",
            "Requirement already satisfied: pytz>=2017.3 in /usr/local/lib/python3.7/dist-packages (from pandas>=0.24.0->yfinance) (2018.9)\n",
            "Requirement already satisfied: python-dateutil>=2.7.3 in /usr/local/lib/python3.7/dist-packages (from pandas>=0.24.0->yfinance) (2.8.2)\n",
            "Requirement already satisfied: six>=1.5 in /usr/local/lib/python3.7/dist-packages (from python-dateutil>=2.7.3->pandas>=0.24.0->yfinance) (1.15.0)\n",
            "Requirement already satisfied: urllib3<1.27,>=1.21.1 in /usr/local/lib/python3.7/dist-packages (from requests>=2.26->yfinance) (1.24.3)\n",
            "Requirement already satisfied: charset-normalizer~=2.0.0 in /usr/local/lib/python3.7/dist-packages (from requests>=2.26->yfinance) (2.0.12)\n",
            "Requirement already satisfied: idna<4,>=2.5 in /usr/local/lib/python3.7/dist-packages (from requests>=2.26->yfinance) (2.10)\n",
            "Requirement already satisfied: certifi>=2017.4.17 in /usr/local/lib/python3.7/dist-packages (from requests>=2.26->yfinance) (2021.10.8)\n"
          ]
        }
      ],
      "source": [
        "pip install yfinance"
      ]
    },
    {
      "cell_type": "code",
      "source": [
        "import yfinance as yf\n",
        "import pandas_datareader as data\n",
        "from pandas_datareader import data as pdr\n",
        "yf.pdr_override()"
      ],
      "metadata": {
        "id": "ASZ5OeP6ekvK"
      },
      "execution_count": null,
      "outputs": []
    },
    {
      "cell_type": "code",
      "source": [
        "data=pdr.get_data_yahoo(\"^NSEI\",start=\"2020-01-01\",end=\"2021-12-31\")"
      ],
      "metadata": {
        "colab": {
          "base_uri": "https://localhost:8080/"
        },
        "id": "tiEGZbNgeq5E",
        "outputId": "8761ac27-8169-4418-dff4-8fe1fe874fe0"
      },
      "execution_count": null,
      "outputs": [
        {
          "output_type": "stream",
          "name": "stdout",
          "text": [
            "\r[*********************100%***********************]  1 of 1 completed\n"
          ]
        }
      ]
    },
    {
      "cell_type": "code",
      "source": [
        "data"
      ],
      "metadata": {
        "colab": {
          "base_uri": "https://localhost:8080/",
          "height": 455
        },
        "id": "SOV2WcCCexML",
        "outputId": "4c8c8792-8659-438f-ec7f-ee6e55a4151b"
      },
      "execution_count": null,
      "outputs": [
        {
          "output_type": "execute_result",
          "data": {
            "text/html": [
              "\n",
              "  <div id=\"df-868c79b3-89bc-48ad-bb12-09653018b19c\">\n",
              "    <div class=\"colab-df-container\">\n",
              "      <div>\n",
              "<style scoped>\n",
              "    .dataframe tbody tr th:only-of-type {\n",
              "        vertical-align: middle;\n",
              "    }\n",
              "\n",
              "    .dataframe tbody tr th {\n",
              "        vertical-align: top;\n",
              "    }\n",
              "\n",
              "    .dataframe thead th {\n",
              "        text-align: right;\n",
              "    }\n",
              "</style>\n",
              "<table border=\"1\" class=\"dataframe\">\n",
              "  <thead>\n",
              "    <tr style=\"text-align: right;\">\n",
              "      <th></th>\n",
              "      <th>Open</th>\n",
              "      <th>High</th>\n",
              "      <th>Low</th>\n",
              "      <th>Close</th>\n",
              "      <th>Adj Close</th>\n",
              "      <th>Volume</th>\n",
              "    </tr>\n",
              "    <tr>\n",
              "      <th>Date</th>\n",
              "      <th></th>\n",
              "      <th></th>\n",
              "      <th></th>\n",
              "      <th></th>\n",
              "      <th></th>\n",
              "      <th></th>\n",
              "    </tr>\n",
              "  </thead>\n",
              "  <tbody>\n",
              "    <tr>\n",
              "      <th>2020-01-01</th>\n",
              "      <td>12202.150391</td>\n",
              "      <td>12222.200195</td>\n",
              "      <td>12165.299805</td>\n",
              "      <td>12182.500000</td>\n",
              "      <td>12182.500000</td>\n",
              "      <td>304100</td>\n",
              "    </tr>\n",
              "    <tr>\n",
              "      <th>2020-01-02</th>\n",
              "      <td>12198.549805</td>\n",
              "      <td>12289.900391</td>\n",
              "      <td>12195.250000</td>\n",
              "      <td>12282.200195</td>\n",
              "      <td>12282.200195</td>\n",
              "      <td>407700</td>\n",
              "    </tr>\n",
              "    <tr>\n",
              "      <th>2020-01-03</th>\n",
              "      <td>12261.099609</td>\n",
              "      <td>12265.599609</td>\n",
              "      <td>12191.349609</td>\n",
              "      <td>12226.650391</td>\n",
              "      <td>12226.650391</td>\n",
              "      <td>428800</td>\n",
              "    </tr>\n",
              "    <tr>\n",
              "      <th>2020-01-06</th>\n",
              "      <td>12170.599609</td>\n",
              "      <td>12179.099609</td>\n",
              "      <td>11974.200195</td>\n",
              "      <td>11993.049805</td>\n",
              "      <td>11993.049805</td>\n",
              "      <td>396500</td>\n",
              "    </tr>\n",
              "    <tr>\n",
              "      <th>2020-01-07</th>\n",
              "      <td>12079.099609</td>\n",
              "      <td>12152.150391</td>\n",
              "      <td>12005.349609</td>\n",
              "      <td>12052.950195</td>\n",
              "      <td>12052.950195</td>\n",
              "      <td>447800</td>\n",
              "    </tr>\n",
              "    <tr>\n",
              "      <th>...</th>\n",
              "      <td>...</td>\n",
              "      <td>...</td>\n",
              "      <td>...</td>\n",
              "      <td>...</td>\n",
              "      <td>...</td>\n",
              "      <td>...</td>\n",
              "    </tr>\n",
              "    <tr>\n",
              "      <th>2021-12-24</th>\n",
              "      <td>17149.500000</td>\n",
              "      <td>17155.599609</td>\n",
              "      <td>16909.599609</td>\n",
              "      <td>17003.750000</td>\n",
              "      <td>17003.750000</td>\n",
              "      <td>182600</td>\n",
              "    </tr>\n",
              "    <tr>\n",
              "      <th>2021-12-27</th>\n",
              "      <td>16937.750000</td>\n",
              "      <td>17112.050781</td>\n",
              "      <td>16833.199219</td>\n",
              "      <td>17086.250000</td>\n",
              "      <td>17086.250000</td>\n",
              "      <td>144800</td>\n",
              "    </tr>\n",
              "    <tr>\n",
              "      <th>2021-12-28</th>\n",
              "      <td>17177.599609</td>\n",
              "      <td>17250.250000</td>\n",
              "      <td>17161.150391</td>\n",
              "      <td>17233.250000</td>\n",
              "      <td>17233.250000</td>\n",
              "      <td>176000</td>\n",
              "    </tr>\n",
              "    <tr>\n",
              "      <th>2021-12-29</th>\n",
              "      <td>17220.099609</td>\n",
              "      <td>17285.949219</td>\n",
              "      <td>17176.650391</td>\n",
              "      <td>17213.599609</td>\n",
              "      <td>17213.599609</td>\n",
              "      <td>161700</td>\n",
              "    </tr>\n",
              "    <tr>\n",
              "      <th>2021-12-30</th>\n",
              "      <td>17201.449219</td>\n",
              "      <td>17264.050781</td>\n",
              "      <td>17146.349609</td>\n",
              "      <td>17203.949219</td>\n",
              "      <td>17203.949219</td>\n",
              "      <td>320800</td>\n",
              "    </tr>\n",
              "  </tbody>\n",
              "</table>\n",
              "<p>497 rows × 6 columns</p>\n",
              "</div>\n",
              "      <button class=\"colab-df-convert\" onclick=\"convertToInteractive('df-868c79b3-89bc-48ad-bb12-09653018b19c')\"\n",
              "              title=\"Convert this dataframe to an interactive table.\"\n",
              "              style=\"display:none;\">\n",
              "        \n",
              "  <svg xmlns=\"http://www.w3.org/2000/svg\" height=\"24px\"viewBox=\"0 0 24 24\"\n",
              "       width=\"24px\">\n",
              "    <path d=\"M0 0h24v24H0V0z\" fill=\"none\"/>\n",
              "    <path d=\"M18.56 5.44l.94 2.06.94-2.06 2.06-.94-2.06-.94-.94-2.06-.94 2.06-2.06.94zm-11 1L8.5 8.5l.94-2.06 2.06-.94-2.06-.94L8.5 2.5l-.94 2.06-2.06.94zm10 10l.94 2.06.94-2.06 2.06-.94-2.06-.94-.94-2.06-.94 2.06-2.06.94z\"/><path d=\"M17.41 7.96l-1.37-1.37c-.4-.4-.92-.59-1.43-.59-.52 0-1.04.2-1.43.59L10.3 9.45l-7.72 7.72c-.78.78-.78 2.05 0 2.83L4 21.41c.39.39.9.59 1.41.59.51 0 1.02-.2 1.41-.59l7.78-7.78 2.81-2.81c.8-.78.8-2.07 0-2.86zM5.41 20L4 18.59l7.72-7.72 1.47 1.35L5.41 20z\"/>\n",
              "  </svg>\n",
              "      </button>\n",
              "      \n",
              "  <style>\n",
              "    .colab-df-container {\n",
              "      display:flex;\n",
              "      flex-wrap:wrap;\n",
              "      gap: 12px;\n",
              "    }\n",
              "\n",
              "    .colab-df-convert {\n",
              "      background-color: #E8F0FE;\n",
              "      border: none;\n",
              "      border-radius: 50%;\n",
              "      cursor: pointer;\n",
              "      display: none;\n",
              "      fill: #1967D2;\n",
              "      height: 32px;\n",
              "      padding: 0 0 0 0;\n",
              "      width: 32px;\n",
              "    }\n",
              "\n",
              "    .colab-df-convert:hover {\n",
              "      background-color: #E2EBFA;\n",
              "      box-shadow: 0px 1px 2px rgba(60, 64, 67, 0.3), 0px 1px 3px 1px rgba(60, 64, 67, 0.15);\n",
              "      fill: #174EA6;\n",
              "    }\n",
              "\n",
              "    [theme=dark] .colab-df-convert {\n",
              "      background-color: #3B4455;\n",
              "      fill: #D2E3FC;\n",
              "    }\n",
              "\n",
              "    [theme=dark] .colab-df-convert:hover {\n",
              "      background-color: #434B5C;\n",
              "      box-shadow: 0px 1px 3px 1px rgba(0, 0, 0, 0.15);\n",
              "      filter: drop-shadow(0px 1px 2px rgba(0, 0, 0, 0.3));\n",
              "      fill: #FFFFFF;\n",
              "    }\n",
              "  </style>\n",
              "\n",
              "      <script>\n",
              "        const buttonEl =\n",
              "          document.querySelector('#df-868c79b3-89bc-48ad-bb12-09653018b19c button.colab-df-convert');\n",
              "        buttonEl.style.display =\n",
              "          google.colab.kernel.accessAllowed ? 'block' : 'none';\n",
              "\n",
              "        async function convertToInteractive(key) {\n",
              "          const element = document.querySelector('#df-868c79b3-89bc-48ad-bb12-09653018b19c');\n",
              "          const dataTable =\n",
              "            await google.colab.kernel.invokeFunction('convertToInteractive',\n",
              "                                                     [key], {});\n",
              "          if (!dataTable) return;\n",
              "\n",
              "          const docLinkHtml = 'Like what you see? Visit the ' +\n",
              "            '<a target=\"_blank\" href=https://colab.research.google.com/notebooks/data_table.ipynb>data table notebook</a>'\n",
              "            + ' to learn more about interactive tables.';\n",
              "          element.innerHTML = '';\n",
              "          dataTable['output_type'] = 'display_data';\n",
              "          await google.colab.output.renderOutput(dataTable, element);\n",
              "          const docLink = document.createElement('div');\n",
              "          docLink.innerHTML = docLinkHtml;\n",
              "          element.appendChild(docLink);\n",
              "        }\n",
              "      </script>\n",
              "    </div>\n",
              "  </div>\n",
              "  "
            ],
            "text/plain": [
              "                    Open          High           Low         Close  \\\n",
              "Date                                                                 \n",
              "2020-01-01  12202.150391  12222.200195  12165.299805  12182.500000   \n",
              "2020-01-02  12198.549805  12289.900391  12195.250000  12282.200195   \n",
              "2020-01-03  12261.099609  12265.599609  12191.349609  12226.650391   \n",
              "2020-01-06  12170.599609  12179.099609  11974.200195  11993.049805   \n",
              "2020-01-07  12079.099609  12152.150391  12005.349609  12052.950195   \n",
              "...                  ...           ...           ...           ...   \n",
              "2021-12-24  17149.500000  17155.599609  16909.599609  17003.750000   \n",
              "2021-12-27  16937.750000  17112.050781  16833.199219  17086.250000   \n",
              "2021-12-28  17177.599609  17250.250000  17161.150391  17233.250000   \n",
              "2021-12-29  17220.099609  17285.949219  17176.650391  17213.599609   \n",
              "2021-12-30  17201.449219  17264.050781  17146.349609  17203.949219   \n",
              "\n",
              "               Adj Close  Volume  \n",
              "Date                              \n",
              "2020-01-01  12182.500000  304100  \n",
              "2020-01-02  12282.200195  407700  \n",
              "2020-01-03  12226.650391  428800  \n",
              "2020-01-06  11993.049805  396500  \n",
              "2020-01-07  12052.950195  447800  \n",
              "...                  ...     ...  \n",
              "2021-12-24  17003.750000  182600  \n",
              "2021-12-27  17086.250000  144800  \n",
              "2021-12-28  17233.250000  176000  \n",
              "2021-12-29  17213.599609  161700  \n",
              "2021-12-30  17203.949219  320800  \n",
              "\n",
              "[497 rows x 6 columns]"
            ]
          },
          "metadata": {},
          "execution_count": 97
        }
      ]
    },
    {
      "cell_type": "code",
      "source": [
        "data['Open'].plot(legend=True,figsize=(12,5))\n",
        "data['Close'].plot(legend=True,figsize=(12,5))\n"
      ],
      "metadata": {
        "colab": {
          "base_uri": "https://localhost:8080/",
          "height": 343
        },
        "id": "Mp16D9YDe_Dn",
        "outputId": "cf862851-6dd5-4886-883e-96791223d1bb"
      },
      "execution_count": null,
      "outputs": [
        {
          "output_type": "execute_result",
          "data": {
            "text/plain": [
              "<matplotlib.axes._subplots.AxesSubplot at 0x7fcb40408950>"
            ]
          },
          "metadata": {},
          "execution_count": 98
        },
        {
          "output_type": "display_data",
          "data": {
            "image/png": "[encoded data removed]",
            "text/plain": [
              "<Figure size 864x360 with 1 Axes>"
            ]
          },
          "metadata": {
            "needs_background": "light"
          }
        }
      ]
    },
    {
      "cell_type": "markdown",
      "source": [
        "# ***Finding Out the Technical Indicators***"
      ],
      "metadata": {
        "id": "49w4agSowRys"
      }
    },
    {
      "cell_type": "markdown",
      "source": [
        "# **SMA**"
      ],
      "metadata": {
        "id": "iNYgbh3_fG8_"
      }
    },
    {
      "cell_type": "code",
      "source": [
        "pip install pandas_ta"
      ],
      "metadata": {
        "colab": {
          "base_uri": "https://localhost:8080/"
        },
        "id": "uzunFq02g56u",
        "outputId": "4e391363-210f-4809-c8ba-840ae63aef76"
      },
      "execution_count": null,
      "outputs": [
        {
          "output_type": "stream",
          "name": "stdout",
          "text": [
            "Requirement already satisfied: pandas_ta in /usr/local/lib/python3.7/dist-packages (0.3.14b0)\n",
            "Requirement already satisfied: pandas in /usr/local/lib/python3.7/dist-packages (from pandas_ta) (1.3.5)\n",
            "Requirement already satisfied: python-dateutil>=2.7.3 in /usr/local/lib/python3.7/dist-packages (from pandas->pandas_ta) (2.8.2)\n",
            "Requirement already satisfied: pytz>=2017.3 in /usr/local/lib/python3.7/dist-packages (from pandas->pandas_ta) (2018.9)\n",
            "Requirement already satisfied: numpy>=1.17.3 in /usr/local/lib/python3.7/dist-packages (from pandas->pandas_ta) (1.21.5)\n",
            "Requirement already satisfied: six>=1.5 in /usr/local/lib/python3.7/dist-packages (from python-dateutil>=2.7.3->pandas->pandas_ta) (1.15.0)\n"
          ]
        }
      ]
    },
    {
      "cell_type": "code",
      "source": [
        "import pandas_ta as ta"
      ],
      "metadata": {
        "id": "CBB48i4JfGPi"
      },
      "execution_count": null,
      "outputs": []
    },
    {
      "cell_type": "code",
      "source": [
        "data.ta.sma(close='Close', length=20, append=True)  # SMA for 20 days"
      ],
      "metadata": {
        "colab": {
          "base_uri": "https://localhost:8080/"
        },
        "id": "OzL9qv5fhBSk",
        "outputId": "2e77e8cb-53e7-480b-8c86-37cdc1f7ac5d"
      },
      "execution_count": null,
      "outputs": [
        {
          "output_type": "execute_result",
          "data": {
            "text/plain": [
              "Date\n",
              "2020-01-01             NaN\n",
              "2020-01-02             NaN\n",
              "2020-01-03             NaN\n",
              "2020-01-06             NaN\n",
              "2020-01-07             NaN\n",
              "                  ...     \n",
              "2021-12-24    17147.712305\n",
              "2021-12-27    17149.327344\n",
              "2021-12-28    17161.829883\n",
              "2021-12-29    17164.164844\n",
              "2021-12-30    17154.279785\n",
              "Name: SMA_20, Length: 497, dtype: float64"
            ]
          },
          "metadata": {},
          "execution_count": 101
        }
      ]
    },
    {
      "cell_type": "code",
      "source": [
        "import matplotlib.pyplot as plt\n"
      ],
      "metadata": {
        "id": "6aDj1nrLyOAE"
      },
      "execution_count": null,
      "outputs": []
    },
    {
      "cell_type": "code",
      "source": [
        "# Visualize the data\n",
        "plt.figure(figsize=(16,8))\n",
        "plt.title('Model')\n",
        "ax = plt.axes()\n",
        "  \n",
        "# Setting the background color of the plot \n",
        "# using set_facecolor() method\n",
        "ax.set_facecolor(\"#000041\")\n",
        "data.SMA_20.plot(legend=True,figsize=(12,5))\n",
        "data.Close.plot(legend=True,figsize=(12,5))"
      ],
      "metadata": {
        "colab": {
          "base_uri": "https://localhost:8080/",
          "height": 414
        },
        "id": "tv0L4nKmx5Rl",
        "outputId": "dc3a81fa-17ab-47d9-d762-9746c06d2178"
      },
      "execution_count": null,
      "outputs": [
        {
          "output_type": "stream",
          "name": "stderr",
          "text": [
            "/usr/local/lib/python3.7/dist-packages/ipykernel_launcher.py:4: MatplotlibDeprecationWarning: Adding an axes using the same arguments as a previous axes currently reuses the earlier instance.  In a future version, a new instance will always be created and returned.  Meanwhile, this warning can be suppressed, and the future behavior ensured, by passing a unique label to each axes instance.\n",
            "  after removing the cwd from sys.path.\n"
          ]
        },
        {
          "output_type": "execute_result",
          "data": {
            "text/plain": [
              "<matplotlib.axes._subplots.AxesSubplot at 0x7fcb40399690>"
            ]
          },
          "metadata": {},
          "execution_count": 103
        },
        {
          "output_type": "display_data",
          "data": {
            "image/png": "[encoded data removed]",
            "text/plain": [
              "<Figure size 864x360 with 1 Axes>"
            ]
          },
          "metadata": {
            "needs_background": "light"
          }
        }
      ]
    },
    {
      "cell_type": "markdown",
      "source": [
        "# **MOM**"
      ],
      "metadata": {
        "id": "LnCF4LHthian"
      }
    },
    {
      "cell_type": "code",
      "source": [
        "!pip install talib-binary\n",
        "import talib"
      ],
      "metadata": {
        "colab": {
          "base_uri": "https://localhost:8080/"
        },
        "id": "UioDbq6WhhSv",
        "outputId": "d9b8dedb-edad-4ee6-f793-07b921448b24"
      },
      "execution_count": null,
      "outputs": [
        {
          "output_type": "stream",
          "name": "stdout",
          "text": [
            "Requirement already satisfied: talib-binary in /usr/local/lib/python3.7/dist-packages (0.4.19)\n",
            "Requirement already satisfied: numpy in /usr/local/lib/python3.7/dist-packages (from talib-binary) (1.21.5)\n"
          ]
        }
      ]
    },
    {
      "cell_type": "code",
      "source": [
        "data['MOM'] = talib.MOM(data['Close'], timeperiod=10)"
      ],
      "metadata": {
        "id": "qRitKVg1jE03"
      },
      "execution_count": null,
      "outputs": []
    },
    {
      "cell_type": "code",
      "source": [
        "# Visualize the data\n",
        "plt.figure(figsize=(16,8))\n",
        "plt.title('Model')\n",
        "ax = plt.axes()\n",
        "  \n",
        "# Setting the background color of the plot \n",
        "# using set_facecolor() method\n",
        "ax.set_facecolor(\"#000041\")\n",
        "data.MOM.plot(legend=True,figsize=(12,5))\n",
        "data.Close.plot(legend=True,figsize=(12,5))"
      ],
      "metadata": {
        "colab": {
          "base_uri": "https://localhost:8080/",
          "height": 414
        },
        "id": "jCuSbq1ryY62",
        "outputId": "e5c3e13c-67cf-4674-877a-4318a5218ed6"
      },
      "execution_count": null,
      "outputs": [
        {
          "output_type": "stream",
          "name": "stderr",
          "text": [
            "/usr/local/lib/python3.7/dist-packages/ipykernel_launcher.py:4: MatplotlibDeprecationWarning: Adding an axes using the same arguments as a previous axes currently reuses the earlier instance.  In a future version, a new instance will always be created and returned.  Meanwhile, this warning can be suppressed, and the future behavior ensured, by passing a unique label to each axes instance.\n",
            "  after removing the cwd from sys.path.\n"
          ]
        },
        {
          "output_type": "execute_result",
          "data": {
            "text/plain": [
              "<matplotlib.axes._subplots.AxesSubplot at 0x7fcb402db0d0>"
            ]
          },
          "metadata": {},
          "execution_count": 106
        },
        {
          "output_type": "display_data",
          "data": {
            "image/png": "[encoded data removed]",
            "text/plain": [
              "<Figure size 864x360 with 1 Axes>"
            ]
          },
          "metadata": {
            "needs_background": "light"
          }
        }
      ]
    },
    {
      "cell_type": "markdown",
      "source": [
        "# **RSI**"
      ],
      "metadata": {
        "id": "k54jVv1Yjo6F"
      }
    },
    {
      "cell_type": "code",
      "source": [
        "data['RSI'] = talib.RSI(data['Close'], timeperiod=14)"
      ],
      "metadata": {
        "id": "HkK9bBDajq0h"
      },
      "execution_count": null,
      "outputs": []
    },
    {
      "cell_type": "code",
      "source": [
        "# Visualize the data\n",
        "plt.figure(figsize=(16,8))\n",
        "plt.title('Model')\n",
        "ax = plt.axes()\n",
        "  \n",
        "# Setting the background color of the plot \n",
        "# using set_facecolor() method\n",
        "ax.set_facecolor(\"#000041\")\n",
        "data.RSI.plot(legend=True,figsize=(12,5))"
      ],
      "metadata": {
        "colab": {
          "base_uri": "https://localhost:8080/"
        },
        "id": "dJhFpCTNydBC",
        "outputId": "ac00237a-64df-417b-802e-25aec2f8e24e"
      },
      "execution_count": null,
      "outputs": [
        {
          "output_type": "stream",
          "name": "stderr",
          "text": [
            "/usr/local/lib/python3.7/dist-packages/ipykernel_launcher.py:4: MatplotlibDeprecationWarning: Adding an axes using the same arguments as a previous axes currently reuses the earlier instance.  In a future version, a new instance will always be created and returned.  Meanwhile, this warning can be suppressed, and the future behavior ensured, by passing a unique label to each axes instance.\n",
            "  after removing the cwd from sys.path.\n"
          ]
        },
        {
          "output_type": "execute_result",
          "data": {
            "text/plain": [
              "<matplotlib.axes._subplots.AxesSubplot at 0x7fcb402d5e50>"
            ]
          },
          "metadata": {},
          "execution_count": 108
        },
        {
          "output_type": "display_data",
          "data": {
            "image/png": "[encoded data removed]",
            "text/plain": [
              "<Figure size 864x360 with 1 Axes>"
            ]
          },
          "metadata": {
            "needs_background": "light"
          }
        }
      ]
    },
    {
      "cell_type": "markdown",
      "source": [
        "# **WILLR - Williams' %R**"
      ],
      "metadata": {
        "id": "FCFK3dDxj80Q"
      }
    },
    {
      "cell_type": "code",
      "source": [
        "data['WILLR'] = talib.WILLR(data['High'], data['Low'], data['Close'], timeperiod=14)"
      ],
      "metadata": {
        "id": "I1Ynkej9j9WL"
      },
      "execution_count": null,
      "outputs": []
    },
    {
      "cell_type": "code",
      "source": [
        "# Visualize the data\n",
        "plt.figure(figsize=(16,8))\n",
        "plt.title('Model')\n",
        "ax = plt.axes()\n",
        "  \n",
        "# Setting the background color of the plot \n",
        "# using set_facecolor() method\n",
        "ax.set_facecolor(\"#000041\")\n",
        "data.WILLR.plot(legend=True,figsize=(12,5))"
      ],
      "metadata": {
        "colab": {
          "base_uri": "https://localhost:8080/"
        },
        "id": "QYoXdTBnAUjt",
        "outputId": "bc76e672-7991-42ed-8dbf-625331dbaf4f"
      },
      "execution_count": null,
      "outputs": [
        {
          "output_type": "stream",
          "name": "stderr",
          "text": [
            "/usr/local/lib/python3.7/dist-packages/ipykernel_launcher.py:4: MatplotlibDeprecationWarning: Adding an axes using the same arguments as a previous axes currently reuses the earlier instance.  In a future version, a new instance will always be created and returned.  Meanwhile, this warning can be suppressed, and the future behavior ensured, by passing a unique label to each axes instance.\n",
            "  after removing the cwd from sys.path.\n"
          ]
        },
        {
          "output_type": "execute_result",
          "data": {
            "text/plain": [
              "<matplotlib.axes._subplots.AxesSubplot at 0x7fcb40185850>"
            ]
          },
          "metadata": {},
          "execution_count": 110
        },
        {
          "output_type": "display_data",
          "data": {
            "image/png": "[encoded data removed]",
            "text/plain": [
              "<Figure size 864x360 with 1 Axes>"
            ]
          },
          "metadata": {
            "needs_background": "light"
          }
        }
      ]
    },
    {
      "cell_type": "markdown",
      "source": [
        "# **CCI**"
      ],
      "metadata": {
        "id": "msB0tNA5kaFl"
      }
    },
    {
      "cell_type": "code",
      "source": [
        "data['CCI'] = talib.CCI(data['High'], data['Low'], data['Close'], timeperiod=14)"
      ],
      "metadata": {
        "id": "kfmkXSRLkY2z"
      },
      "execution_count": null,
      "outputs": []
    },
    {
      "cell_type": "code",
      "source": [
        "# Visualize the data\n",
        "plt.figure(figsize=(16,8))\n",
        "plt.title('Model')\n",
        "ax = plt.axes()\n",
        "  \n",
        "# Setting the background color of the plot \n",
        "# using set_facecolor() method\n",
        "ax.set_facecolor(\"#000041\")\n",
        "data.CCI.plot(legend=True,figsize=(12,5))"
      ],
      "metadata": {
        "colab": {
          "base_uri": "https://localhost:8080/"
        },
        "id": "7buFEnmhAm30",
        "outputId": "dc011e20-795c-4eb7-f68d-247b532c8ca0"
      },
      "execution_count": null,
      "outputs": [
        {
          "output_type": "stream",
          "name": "stderr",
          "text": [
            "/usr/local/lib/python3.7/dist-packages/ipykernel_launcher.py:4: MatplotlibDeprecationWarning: Adding an axes using the same arguments as a previous axes currently reuses the earlier instance.  In a future version, a new instance will always be created and returned.  Meanwhile, this warning can be suppressed, and the future behavior ensured, by passing a unique label to each axes instance.\n",
            "  after removing the cwd from sys.path.\n"
          ]
        },
        {
          "output_type": "execute_result",
          "data": {
            "text/plain": [
              "<matplotlib.axes._subplots.AxesSubplot at 0x7fcb40118fd0>"
            ]
          },
          "metadata": {},
          "execution_count": 112
        },
        {
          "output_type": "display_data",
          "data": {
            "image/png": "[encoded data removed]",
            "text/plain": [
              "<Figure size 864x360 with 1 Axes>"
            ]
          },
          "metadata": {
            "needs_background": "light"
          }
        }
      ]
    },
    {
      "cell_type": "markdown",
      "source": [
        "# **ADX**"
      ],
      "metadata": {
        "id": "pZyhDd16lDgu"
      }
    },
    {
      "cell_type": "code",
      "source": [
        "data['ADX'] = talib.ADX(data['High'], data['Low'], data['Close'], timeperiod=14)"
      ],
      "metadata": {
        "id": "Ys1JVesYlFg6"
      },
      "execution_count": null,
      "outputs": []
    },
    {
      "cell_type": "code",
      "source": [
        "# Visualize the data\n",
        "plt.figure(figsize=(16,8))\n",
        "plt.title('Model')\n",
        "ax = plt.axes()\n",
        "  \n",
        "# Setting the background color of the plot \n",
        "# using set_facecolor() method\n",
        "ax.set_facecolor(\"#000041\")\n",
        "data.ADX.plot(legend=True,figsize=(12,5))"
      ],
      "metadata": {
        "colab": {
          "base_uri": "https://localhost:8080/"
        },
        "id": "RUoqIz2FA4OK",
        "outputId": "00f4001f-37ef-4206-9c10-16a4726f97cf"
      },
      "execution_count": null,
      "outputs": [
        {
          "output_type": "stream",
          "name": "stderr",
          "text": [
            "/usr/local/lib/python3.7/dist-packages/ipykernel_launcher.py:4: MatplotlibDeprecationWarning: Adding an axes using the same arguments as a previous axes currently reuses the earlier instance.  In a future version, a new instance will always be created and returned.  Meanwhile, this warning can be suppressed, and the future behavior ensured, by passing a unique label to each axes instance.\n",
            "  after removing the cwd from sys.path.\n"
          ]
        },
        {
          "output_type": "execute_result",
          "data": {
            "text/plain": [
              "<matplotlib.axes._subplots.AxesSubplot at 0x7fcb400909d0>"
            ]
          },
          "metadata": {},
          "execution_count": 114
        },
        {
          "output_type": "display_data",
          "data": {
            "image/png": "[encoded data removed]",
            "text/plain": [
              "<Figure size 864x360 with 1 Axes>"
            ]
          },
          "metadata": {
            "needs_background": "light"
          }
        }
      ]
    },
    {
      "cell_type": "markdown",
      "source": [
        "# **MACD**"
      ],
      "metadata": {
        "id": "R_g6HwZymLSY"
      }
    },
    {
      "cell_type": "code",
      "source": [
        "data['MACD'], data['SIGNAL'], data['MACDHIST']= talib.MACD(data['Close'], fastperiod=12, slowperiod=26, signalperiod=9)"
      ],
      "metadata": {
        "id": "Q_fvha2smKbr"
      },
      "execution_count": null,
      "outputs": []
    },
    {
      "cell_type": "code",
      "source": [
        "# Visualize the data\n",
        "plt.figure(figsize=(16,8))\n",
        "plt.title('Model')\n",
        "ax = plt.axes()\n",
        "  \n",
        "# Setting the background color of the plot \n",
        "# using set_facecolor() method\n",
        "ax.set_facecolor(\"#000041\")\n",
        "data.MACD.plot(legend=True,figsize=(12,5))\n"
      ],
      "metadata": {
        "colab": {
          "base_uri": "https://localhost:8080/"
        },
        "id": "OU5IphNjBAEf",
        "outputId": "b7750c82-769d-430f-8911-840b405fa9dc"
      },
      "execution_count": null,
      "outputs": [
        {
          "output_type": "stream",
          "name": "stderr",
          "text": [
            "/usr/local/lib/python3.7/dist-packages/ipykernel_launcher.py:4: MatplotlibDeprecationWarning: Adding an axes using the same arguments as a previous axes currently reuses the earlier instance.  In a future version, a new instance will always be created and returned.  Meanwhile, this warning can be suppressed, and the future behavior ensured, by passing a unique label to each axes instance.\n",
            "  after removing the cwd from sys.path.\n"
          ]
        },
        {
          "output_type": "execute_result",
          "data": {
            "text/plain": [
              "<matplotlib.axes._subplots.AxesSubplot at 0x7fcb40017390>"
            ]
          },
          "metadata": {},
          "execution_count": 116
        },
        {
          "output_type": "display_data",
          "data": {
            "image/png": "[encoded data removed]",
            "text/plain": [
              "<Figure size 864x360 with 1 Axes>"
            ]
          },
          "metadata": {
            "needs_background": "light"
          }
        }
      ]
    },
    {
      "cell_type": "markdown",
      "source": [
        "# **ULTOSC**"
      ],
      "metadata": {
        "id": "hKlKCm0hmyDD"
      }
    },
    {
      "cell_type": "code",
      "source": [
        "data['ULTOSC'] = talib.ULTOSC(data['High'], data['Low'], data['Close'], timeperiod1=7, timeperiod2=14, timeperiod3=28)"
      ],
      "metadata": {
        "id": "zIt9lN8wnUaw"
      },
      "execution_count": null,
      "outputs": []
    },
    {
      "cell_type": "code",
      "source": [
        "# Visualize the data\n",
        "plt.figure(figsize=(16,8))\n",
        "plt.title('Model')\n",
        "ax = plt.axes()\n",
        "  \n",
        "# Setting the background color of the plot \n",
        "# using set_facecolor() method\n",
        "ax.set_facecolor(\"#000041\")\n",
        "data.ULTOSC.plot(legend=True,figsize=(12,5))"
      ],
      "metadata": {
        "colab": {
          "base_uri": "https://localhost:8080/"
        },
        "id": "f-4bza16BIO0",
        "outputId": "10e10c7e-4015-4916-9511-71726b657a6d"
      },
      "execution_count": null,
      "outputs": [
        {
          "output_type": "stream",
          "name": "stderr",
          "text": [
            "/usr/local/lib/python3.7/dist-packages/ipykernel_launcher.py:4: MatplotlibDeprecationWarning: Adding an axes using the same arguments as a previous axes currently reuses the earlier instance.  In a future version, a new instance will always be created and returned.  Meanwhile, this warning can be suppressed, and the future behavior ensured, by passing a unique label to each axes instance.\n",
            "  after removing the cwd from sys.path.\n"
          ]
        },
        {
          "output_type": "execute_result",
          "data": {
            "text/plain": [
              "<matplotlib.axes._subplots.AxesSubplot at 0x7fcb3ff4c8d0>"
            ]
          },
          "metadata": {},
          "execution_count": 118
        },
        {
          "output_type": "display_data",
          "data": {
            "image/png": "[encoded data removed]",
            "text/plain": [
              "<Figure size 864x360 with 1 Axes>"
            ]
          },
          "metadata": {
            "needs_background": "light"
          }
        }
      ]
    },
    {
      "cell_type": "markdown",
      "source": [
        "# **EMA**"
      ],
      "metadata": {
        "id": "HcQhW-rWnw4e"
      }
    },
    {
      "cell_type": "code",
      "source": [
        "data['EMA20'] = talib.EMA(data['Close'], timeperiod=20)"
      ],
      "metadata": {
        "id": "f-5TwR_Enzk_"
      },
      "execution_count": null,
      "outputs": []
    },
    {
      "cell_type": "code",
      "source": [
        "# Visualize the data\n",
        "plt.figure(figsize=(16,8))\n",
        "plt.title('Model')\n",
        "ax = plt.axes()\n",
        "  \n",
        "# Setting the background color of the plot \n",
        "# using set_facecolor() method\n",
        "ax.set_facecolor(\"#000041\")\n",
        "data.EMA20.plot(legend=True,figsize=(12,5))\n",
        "data.Close.plot(legend=True,figsize=(12,5))"
      ],
      "metadata": {
        "colab": {
          "base_uri": "https://localhost:8080/"
        },
        "id": "OBiNIqeyBOqx",
        "outputId": "4425e8c5-a270-4c4f-ed3c-759569a6955c"
      },
      "execution_count": null,
      "outputs": [
        {
          "output_type": "stream",
          "name": "stderr",
          "text": [
            "/usr/local/lib/python3.7/dist-packages/ipykernel_launcher.py:4: MatplotlibDeprecationWarning: Adding an axes using the same arguments as a previous axes currently reuses the earlier instance.  In a future version, a new instance will always be created and returned.  Meanwhile, this warning can be suppressed, and the future behavior ensured, by passing a unique label to each axes instance.\n",
            "  after removing the cwd from sys.path.\n"
          ]
        },
        {
          "output_type": "execute_result",
          "data": {
            "text/plain": [
              "<matplotlib.axes._subplots.AxesSubplot at 0x7fcb3ff3e490>"
            ]
          },
          "metadata": {},
          "execution_count": 120
        },
        {
          "output_type": "display_data",
          "data": {
            "image/png": "[encoded data removed]",
            "text/plain": [
              "<Figure size 864x360 with 1 Axes>"
            ]
          },
          "metadata": {
            "needs_background": "light"
          }
        }
      ]
    },
    {
      "cell_type": "markdown",
      "source": [
        "# **TRIX**"
      ],
      "metadata": {
        "id": "Td3viOJin5wz"
      }
    },
    {
      "cell_type": "code",
      "source": [
        "data['TRIX']=talib.TRIX(data['Close'],timeperiod=30)"
      ],
      "metadata": {
        "id": "uVkosDd1oQCZ"
      },
      "execution_count": null,
      "outputs": []
    },
    {
      "cell_type": "code",
      "source": [
        "# Visualize the data\n",
        "plt.figure(figsize=(16,8))\n",
        "plt.title('Model')\n",
        "ax = plt.axes()\n",
        "  \n",
        "# Setting the background color of the plot \n",
        "# using set_facecolor() method\n",
        "ax.set_facecolor(\"#000041\")\n",
        "data.TRIX.plot(legend=True,figsize=(12,5))"
      ],
      "metadata": {
        "colab": {
          "base_uri": "https://localhost:8080/"
        },
        "id": "ry-5J8faBY4U",
        "outputId": "9def0d32-fca7-481d-a0d3-d8375d47780e"
      },
      "execution_count": null,
      "outputs": [
        {
          "output_type": "stream",
          "name": "stderr",
          "text": [
            "/usr/local/lib/python3.7/dist-packages/ipykernel_launcher.py:4: MatplotlibDeprecationWarning: Adding an axes using the same arguments as a previous axes currently reuses the earlier instance.  In a future version, a new instance will always be created and returned.  Meanwhile, this warning can be suppressed, and the future behavior ensured, by passing a unique label to each axes instance.\n",
            "  after removing the cwd from sys.path.\n"
          ]
        },
        {
          "output_type": "execute_result",
          "data": {
            "text/plain": [
              "<matplotlib.axes._subplots.AxesSubplot at 0x7fcb3ff26f90>"
            ]
          },
          "metadata": {},
          "execution_count": 122
        },
        {
          "output_type": "display_data",
          "data": {
            "image/png": "[encoded data removed]",
            "text/plain": [
              "<Figure size 864x360 with 1 Axes>"
            ]
          },
          "metadata": {
            "needs_background": "light"
          }
        }
      ]
    },
    {
      "cell_type": "markdown",
      "source": [
        "# **ROCR**"
      ],
      "metadata": {
        "id": "RIZ7IDR-odMz"
      }
    },
    {
      "cell_type": "code",
      "source": [
        "data['ROCR'] = talib.ROCR(data['Close'], timeperiod=10)"
      ],
      "metadata": {
        "id": "ZK7o9dgXomO6"
      },
      "execution_count": null,
      "outputs": []
    },
    {
      "cell_type": "code",
      "source": [
        "# Visualize the data\n",
        "plt.figure(figsize=(16,8))\n",
        "plt.title('Model')\n",
        "ax = plt.axes()\n",
        "  \n",
        "# Setting the background color of the plot \n",
        "# using set_facecolor() method\n",
        "ax.set_facecolor(\"#000041\")\n",
        "data.ROCR.plot(legend=True,figsize=(12,5))\n"
      ],
      "metadata": {
        "colab": {
          "base_uri": "https://localhost:8080/"
        },
        "id": "wBFnbHiWBd_v",
        "outputId": "45033480-2816-42d0-c436-6abae63ae7ce"
      },
      "execution_count": null,
      "outputs": [
        {
          "output_type": "stream",
          "name": "stderr",
          "text": [
            "/usr/local/lib/python3.7/dist-packages/ipykernel_launcher.py:4: MatplotlibDeprecationWarning: Adding an axes using the same arguments as a previous axes currently reuses the earlier instance.  In a future version, a new instance will always be created and returned.  Meanwhile, this warning can be suppressed, and the future behavior ensured, by passing a unique label to each axes instance.\n",
            "  after removing the cwd from sys.path.\n"
          ]
        },
        {
          "output_type": "execute_result",
          "data": {
            "text/plain": [
              "<matplotlib.axes._subplots.AxesSubplot at 0x7fcb3fe1e910>"
            ]
          },
          "metadata": {},
          "execution_count": 124
        },
        {
          "output_type": "display_data",
          "data": {
            "image/png": "[encoded data removed]",
            "text/plain": [
              "<Figure size 864x360 with 1 Axes>"
            ]
          },
          "metadata": {
            "needs_background": "light"
          }
        }
      ]
    },
    {
      "cell_type": "markdown",
      "source": [
        "# **PPO**"
      ],
      "metadata": {
        "id": "d6pPQhRPokOF"
      }
    },
    {
      "cell_type": "code",
      "source": [
        "data['PPO'] = talib.PPO(data['Close'], fastperiod=12, slowperiod=26, matype=0)"
      ],
      "metadata": {
        "id": "HtUjGkZqo94A"
      },
      "execution_count": null,
      "outputs": []
    },
    {
      "cell_type": "code",
      "source": [
        "# Visualize the data\n",
        "plt.figure(figsize=(16,8))\n",
        "plt.title('Model')\n",
        "ax = plt.axes()\n",
        "  \n",
        "# Setting the background color of the plot \n",
        "# using set_facecolor() method\n",
        "ax.set_facecolor(\"#000041\")\n",
        "data.PPO.plot(legend=True,figsize=(12,5))"
      ],
      "metadata": {
        "colab": {
          "base_uri": "https://localhost:8080/"
        },
        "id": "bFcfWXmiBjA_",
        "outputId": "67a4bba3-479c-4632-f8ed-01a71c790598"
      },
      "execution_count": null,
      "outputs": [
        {
          "output_type": "stream",
          "name": "stderr",
          "text": [
            "/usr/local/lib/python3.7/dist-packages/ipykernel_launcher.py:4: MatplotlibDeprecationWarning: Adding an axes using the same arguments as a previous axes currently reuses the earlier instance.  In a future version, a new instance will always be created and returned.  Meanwhile, this warning can be suppressed, and the future behavior ensured, by passing a unique label to each axes instance.\n",
            "  after removing the cwd from sys.path.\n"
          ]
        },
        {
          "output_type": "execute_result",
          "data": {
            "text/plain": [
              "<matplotlib.axes._subplots.AxesSubplot at 0x7fcb3fd7fbd0>"
            ]
          },
          "metadata": {},
          "execution_count": 126
        },
        {
          "output_type": "display_data",
          "data": {
            "image/png": "[encoded data removed]",
            "text/plain": [
              "<Figure size 864x360 with 1 Axes>"
            ]
          },
          "metadata": {
            "needs_background": "light"
          }
        }
      ]
    },
    {
      "cell_type": "markdown",
      "source": [
        "# **DX**"
      ],
      "metadata": {
        "id": "7X_6RQIypQDm"
      }
    },
    {
      "cell_type": "code",
      "source": [
        "data['DX'] = talib.DX(data['High'], data['Low'], data['Close'], timeperiod=14)"
      ],
      "metadata": {
        "id": "De5edCW0pQad"
      },
      "execution_count": null,
      "outputs": []
    },
    {
      "cell_type": "code",
      "source": [
        "# Visualize the data\n",
        "plt.figure(figsize=(16,8))\n",
        "plt.title('Model')\n",
        "ax = plt.axes()\n",
        "  \n",
        "# Setting the background color of the plot \n",
        "# using set_facecolor() method\n",
        "ax.set_facecolor(\"#000041\")\n",
        "data.DX.plot(legend=True,figsize=(12,5))"
      ],
      "metadata": {
        "colab": {
          "base_uri": "https://localhost:8080/"
        },
        "id": "KNz9GEg0Boeh",
        "outputId": "7d5bfb8b-1058-419f-9504-37a246ff80a5"
      },
      "execution_count": null,
      "outputs": [
        {
          "output_type": "stream",
          "name": "stderr",
          "text": [
            "/usr/local/lib/python3.7/dist-packages/ipykernel_launcher.py:4: MatplotlibDeprecationWarning: Adding an axes using the same arguments as a previous axes currently reuses the earlier instance.  In a future version, a new instance will always be created and returned.  Meanwhile, this warning can be suppressed, and the future behavior ensured, by passing a unique label to each axes instance.\n",
            "  after removing the cwd from sys.path.\n"
          ]
        },
        {
          "output_type": "execute_result",
          "data": {
            "text/plain": [
              "<matplotlib.axes._subplots.AxesSubplot at 0x7fcb3fd7f190>"
            ]
          },
          "metadata": {},
          "execution_count": 128
        },
        {
          "output_type": "display_data",
          "data": {
            "image/png": "[encoded data removed]",
            "text/plain": [
              "<Figure size 864x360 with 1 Axes>"
            ]
          },
          "metadata": {
            "needs_background": "light"
          }
        }
      ]
    },
    {
      "cell_type": "markdown",
      "source": [
        "# **MFI**"
      ],
      "metadata": {
        "id": "3516nz5tppTY"
      }
    },
    {
      "cell_type": "code",
      "source": [
        "data['MFI'] = talib.MFI(data['High'], data['Low'], data['Close'],data['Volume'], timeperiod=14)"
      ],
      "metadata": {
        "id": "uohP2BnDpplo"
      },
      "execution_count": null,
      "outputs": []
    },
    {
      "cell_type": "code",
      "source": [
        "# Visualize the data\n",
        "plt.figure(figsize=(16,8))\n",
        "plt.title('Model')\n",
        "ax = plt.axes()\n",
        "  \n",
        "# Setting the background color of the plot \n",
        "# using set_facecolor() method\n",
        "ax.set_facecolor(\"#000041\")\n",
        "data.MFI.plot(legend=True,figsize=(12,5))\n"
      ],
      "metadata": {
        "colab": {
          "base_uri": "https://localhost:8080/"
        },
        "id": "horgrttiBwT3",
        "outputId": "bf194abe-a8c0-44c4-e3bd-2fe7529f885c"
      },
      "execution_count": null,
      "outputs": [
        {
          "output_type": "stream",
          "name": "stderr",
          "text": [
            "/usr/local/lib/python3.7/dist-packages/ipykernel_launcher.py:4: MatplotlibDeprecationWarning: Adding an axes using the same arguments as a previous axes currently reuses the earlier instance.  In a future version, a new instance will always be created and returned.  Meanwhile, this warning can be suppressed, and the future behavior ensured, by passing a unique label to each axes instance.\n",
            "  after removing the cwd from sys.path.\n"
          ]
        },
        {
          "output_type": "execute_result",
          "data": {
            "text/plain": [
              "<matplotlib.axes._subplots.AxesSubplot at 0x7fcb3fc8bfd0>"
            ]
          },
          "metadata": {},
          "execution_count": 130
        },
        {
          "output_type": "display_data",
          "data": {
            "image/png": "[encoded data removed]",
            "text/plain": [
              "<Figure size 864x360 with 1 Axes>"
            ]
          },
          "metadata": {
            "needs_background": "light"
          }
        }
      ]
    },
    {
      "cell_type": "code",
      "source": [
        "data"
      ],
      "metadata": {
        "colab": {
          "base_uri": "https://localhost:8080/"
        },
        "id": "hOal7u9qwdRU",
        "outputId": "301c8118-0b64-4389-decb-6920d4b76c28"
      },
      "execution_count": null,
      "outputs": [
        {
          "output_type": "execute_result",
          "data": {
            "text/html": [
              "\n",
              "  <div id=\"df-f43d7954-892f-49e6-a24f-deb40285840d\">\n",
              "    <div class=\"colab-df-container\">\n",
              "      <div>\n",
              "<style scoped>\n",
              "    .dataframe tbody tr th:only-of-type {\n",
              "        vertical-align: middle;\n",
              "    }\n",
              "\n",
              "    .dataframe tbody tr th {\n",
              "        vertical-align: top;\n",
              "    }\n",
              "\n",
              "    .dataframe thead th {\n",
              "        text-align: right;\n",
              "    }\n",
              "</style>\n",
              "<table border=\"1\" class=\"dataframe\">\n",
              "  <thead>\n",
              "    <tr style=\"text-align: right;\">\n",
              "      <th></th>\n",
              "      <th>Open</th>\n",
              "      <th>High</th>\n",
              "      <th>Low</th>\n",
              "      <th>Close</th>\n",
              "      <th>Adj Close</th>\n",
              "      <th>Volume</th>\n",
              "      <th>SMA_20</th>\n",
              "      <th>MOM</th>\n",
              "      <th>RSI</th>\n",
              "      <th>WILLR</th>\n",
              "      <th>...</th>\n",
              "      <th>MACD</th>\n",
              "      <th>SIGNAL</th>\n",
              "      <th>MACDHIST</th>\n",
              "      <th>ULTOSC</th>\n",
              "      <th>EMA20</th>\n",
              "      <th>TRIX</th>\n",
              "      <th>ROCR</th>\n",
              "      <th>PPO</th>\n",
              "      <th>DX</th>\n",
              "      <th>MFI</th>\n",
              "    </tr>\n",
              "    <tr>\n",
              "      <th>Date</th>\n",
              "      <th></th>\n",
              "      <th></th>\n",
              "      <th></th>\n",
              "      <th></th>\n",
              "      <th></th>\n",
              "      <th></th>\n",
              "      <th></th>\n",
              "      <th></th>\n",
              "      <th></th>\n",
              "      <th></th>\n",
              "      <th></th>\n",
              "      <th></th>\n",
              "      <th></th>\n",
              "      <th></th>\n",
              "      <th></th>\n",
              "      <th></th>\n",
              "      <th></th>\n",
              "      <th></th>\n",
              "      <th></th>\n",
              "      <th></th>\n",
              "      <th></th>\n",
              "    </tr>\n",
              "  </thead>\n",
              "  <tbody>\n",
              "    <tr>\n",
              "      <th>2020-01-01</th>\n",
              "      <td>12202.150391</td>\n",
              "      <td>12222.200195</td>\n",
              "      <td>12165.299805</td>\n",
              "      <td>12182.500000</td>\n",
              "      <td>12182.500000</td>\n",
              "      <td>304100</td>\n",
              "      <td>NaN</td>\n",
              "      <td>NaN</td>\n",
              "      <td>NaN</td>\n",
              "      <td>NaN</td>\n",
              "      <td>...</td>\n",
              "      <td>NaN</td>\n",
              "      <td>NaN</td>\n",
              "      <td>NaN</td>\n",
              "      <td>NaN</td>\n",
              "      <td>NaN</td>\n",
              "      <td>NaN</td>\n",
              "      <td>NaN</td>\n",
              "      <td>NaN</td>\n",
              "      <td>NaN</td>\n",
              "      <td>NaN</td>\n",
              "    </tr>\n",
              "    <tr>\n",
              "      <th>2020-01-02</th>\n",
              "      <td>12198.549805</td>\n",
              "      <td>12289.900391</td>\n",
              "      <td>12195.250000</td>\n",
              "      <td>12282.200195</td>\n",
              "      <td>12282.200195</td>\n",
              "      <td>407700</td>\n",
              "      <td>NaN</td>\n",
              "      <td>NaN</td>\n",
              "      <td>NaN</td>\n",
              "      <td>NaN</td>\n",
              "      <td>...</td>\n",
              "      <td>NaN</td>\n",
              "      <td>NaN</td>\n",
              "      <td>NaN</td>\n",
              "      <td>NaN</td>\n",
              "      <td>NaN</td>\n",
              "      <td>NaN</td>\n",
              "      <td>NaN</td>\n",
              "      <td>NaN</td>\n",
              "      <td>NaN</td>\n",
              "      <td>NaN</td>\n",
              "    </tr>\n",
              "    <tr>\n",
              "      <th>2020-01-03</th>\n",
              "      <td>12261.099609</td>\n",
              "      <td>12265.599609</td>\n",
              "      <td>12191.349609</td>\n",
              "      <td>12226.650391</td>\n",
              "      <td>12226.650391</td>\n",
              "      <td>428800</td>\n",
              "      <td>NaN</td>\n",
              "      <td>NaN</td>\n",
              "      <td>NaN</td>\n",
              "      <td>NaN</td>\n",
              "      <td>...</td>\n",
              "      <td>NaN</td>\n",
              "      <td>NaN</td>\n",
              "      <td>NaN</td>\n",
              "      <td>NaN</td>\n",
              "      <td>NaN</td>\n",
              "      <td>NaN</td>\n",
              "      <td>NaN</td>\n",
              "      <td>NaN</td>\n",
              "      <td>NaN</td>\n",
              "      <td>NaN</td>\n",
              "    </tr>\n",
              "    <tr>\n",
              "      <th>2020-01-06</th>\n",
              "      <td>12170.599609</td>\n",
              "      <td>12179.099609</td>\n",
              "      <td>11974.200195</td>\n",
              "      <td>11993.049805</td>\n",
              "      <td>11993.049805</td>\n",
              "      <td>396500</td>\n",
              "      <td>NaN</td>\n",
              "      <td>NaN</td>\n",
              "      <td>NaN</td>\n",
              "      <td>NaN</td>\n",
              "      <td>...</td>\n",
              "      <td>NaN</td>\n",
              "      <td>NaN</td>\n",
              "      <td>NaN</td>\n",
              "      <td>NaN</td>\n",
              "      <td>NaN</td>\n",
              "      <td>NaN</td>\n",
              "      <td>NaN</td>\n",
              "      <td>NaN</td>\n",
              "      <td>NaN</td>\n",
              "      <td>NaN</td>\n",
              "    </tr>\n",
              "    <tr>\n",
              "      <th>2020-01-07</th>\n",
              "      <td>12079.099609</td>\n",
              "      <td>12152.150391</td>\n",
              "      <td>12005.349609</td>\n",
              "      <td>12052.950195</td>\n",
              "      <td>12052.950195</td>\n",
              "      <td>447800</td>\n",
              "      <td>NaN</td>\n",
              "      <td>NaN</td>\n",
              "      <td>NaN</td>\n",
              "      <td>NaN</td>\n",
              "      <td>...</td>\n",
              "      <td>NaN</td>\n",
              "      <td>NaN</td>\n",
              "      <td>NaN</td>\n",
              "      <td>NaN</td>\n",
              "      <td>NaN</td>\n",
              "      <td>NaN</td>\n",
              "      <td>NaN</td>\n",
              "      <td>NaN</td>\n",
              "      <td>NaN</td>\n",
              "      <td>NaN</td>\n",
              "    </tr>\n",
              "    <tr>\n",
              "      <th>...</th>\n",
              "      <td>...</td>\n",
              "      <td>...</td>\n",
              "      <td>...</td>\n",
              "      <td>...</td>\n",
              "      <td>...</td>\n",
              "      <td>...</td>\n",
              "      <td>...</td>\n",
              "      <td>...</td>\n",
              "      <td>...</td>\n",
              "      <td>...</td>\n",
              "      <td>...</td>\n",
              "      <td>...</td>\n",
              "      <td>...</td>\n",
              "      <td>...</td>\n",
              "      <td>...</td>\n",
              "      <td>...</td>\n",
              "      <td>...</td>\n",
              "      <td>...</td>\n",
              "      <td>...</td>\n",
              "      <td>...</td>\n",
              "      <td>...</td>\n",
              "    </tr>\n",
              "    <tr>\n",
              "      <th>2021-12-24</th>\n",
              "      <td>17149.500000</td>\n",
              "      <td>17155.599609</td>\n",
              "      <td>16909.599609</td>\n",
              "      <td>17003.750000</td>\n",
              "      <td>17003.750000</td>\n",
              "      <td>182600</td>\n",
              "      <td>17147.712305</td>\n",
              "      <td>-507.550781</td>\n",
              "      <td>43.671429</td>\n",
              "      <td>-51.716391</td>\n",
              "      <td>...</td>\n",
              "      <td>-172.818225</td>\n",
              "      <td>-166.335710</td>\n",
              "      <td>-6.482515</td>\n",
              "      <td>44.016750</td>\n",
              "      <td>17176.748784</td>\n",
              "      <td>-0.019114</td>\n",
              "      <td>0.971016</td>\n",
              "      <td>-0.483645</td>\n",
              "      <td>28.463077</td>\n",
              "      <td>53.183777</td>\n",
              "    </tr>\n",
              "    <tr>\n",
              "      <th>2021-12-27</th>\n",
              "      <td>16937.750000</td>\n",
              "      <td>17112.050781</td>\n",
              "      <td>16833.199219</td>\n",
              "      <td>17086.250000</td>\n",
              "      <td>17086.250000</td>\n",
              "      <td>144800</td>\n",
              "      <td>17149.327344</td>\n",
              "      <td>-282.000000</td>\n",
              "      <td>45.922045</td>\n",
              "      <td>-45.005259</td>\n",
              "      <td>...</td>\n",
              "      <td>-158.872686</td>\n",
              "      <td>-164.843105</td>\n",
              "      <td>5.970419</td>\n",
              "      <td>48.644986</td>\n",
              "      <td>17168.129852</td>\n",
              "      <td>-0.023919</td>\n",
              "      <td>0.983763</td>\n",
              "      <td>-0.541303</td>\n",
              "      <td>31.435269</td>\n",
              "      <td>47.301998</td>\n",
              "    </tr>\n",
              "    <tr>\n",
              "      <th>2021-12-28</th>\n",
              "      <td>17177.599609</td>\n",
              "      <td>17250.250000</td>\n",
              "      <td>17161.150391</td>\n",
              "      <td>17233.250000</td>\n",
              "      <td>17233.250000</td>\n",
              "      <td>176000</td>\n",
              "      <td>17161.829883</td>\n",
              "      <td>-91.650391</td>\n",
              "      <td>49.772915</td>\n",
              "      <td>-33.047242</td>\n",
              "      <td>...</td>\n",
              "      <td>-134.409683</td>\n",
              "      <td>-158.756421</td>\n",
              "      <td>24.346738</td>\n",
              "      <td>54.377966</td>\n",
              "      <td>17174.331771</td>\n",
              "      <td>-0.028082</td>\n",
              "      <td>0.994710</td>\n",
              "      <td>-0.635345</td>\n",
              "      <td>21.593951</td>\n",
              "      <td>45.913781</td>\n",
              "    </tr>\n",
              "    <tr>\n",
              "      <th>2021-12-29</th>\n",
              "      <td>17220.099609</td>\n",
              "      <td>17285.949219</td>\n",
              "      <td>17176.650391</td>\n",
              "      <td>17213.599609</td>\n",
              "      <td>17213.599609</td>\n",
              "      <td>161700</td>\n",
              "      <td>17164.164844</td>\n",
              "      <td>-7.800781</td>\n",
              "      <td>49.267858</td>\n",
              "      <td>-34.645743</td>\n",
              "      <td>...</td>\n",
              "      <td>-115.279331</td>\n",
              "      <td>-150.061003</td>\n",
              "      <td>34.781672</td>\n",
              "      <td>57.999721</td>\n",
              "      <td>17178.071565</td>\n",
              "      <td>-0.031695</td>\n",
              "      <td>0.999547</td>\n",
              "      <td>-0.645909</td>\n",
              "      <td>19.112888</td>\n",
              "      <td>44.553568</td>\n",
              "    </tr>\n",
              "    <tr>\n",
              "      <th>2021-12-30</th>\n",
              "      <td>17201.449219</td>\n",
              "      <td>17264.050781</td>\n",
              "      <td>17146.349609</td>\n",
              "      <td>17203.949219</td>\n",
              "      <td>17203.949219</td>\n",
              "      <td>320800</td>\n",
              "      <td>17154.279785</td>\n",
              "      <td>-44.451172</td>\n",
              "      <td>49.004864</td>\n",
              "      <td>-35.430774</td>\n",
              "      <td>...</td>\n",
              "      <td>-99.747271</td>\n",
              "      <td>-139.998256</td>\n",
              "      <td>40.250986</td>\n",
              "      <td>59.509486</td>\n",
              "      <td>17180.536103</td>\n",
              "      <td>-0.034819</td>\n",
              "      <td>0.997423</td>\n",
              "      <td>-0.657634</td>\n",
              "      <td>20.593903</td>\n",
              "      <td>36.630402</td>\n",
              "    </tr>\n",
              "  </tbody>\n",
              "</table>\n",
              "<p>497 rows × 22 columns</p>\n",
              "</div>\n",
              "      <button class=\"colab-df-convert\" onclick=\"convertToInteractive('df-f43d7954-892f-49e6-a24f-deb40285840d')\"\n",
              "              title=\"Convert this dataframe to an interactive table.\"\n",
              "              style=\"display:none;\">\n",
              "        \n",
              "  <svg xmlns=\"http://www.w3.org/2000/svg\" height=\"24px\"viewBox=\"0 0 24 24\"\n",
              "       width=\"24px\">\n",
              "    <path d=\"M0 0h24v24H0V0z\" fill=\"none\"/>\n",
              "    <path d=\"M18.56 5.44l.94 2.06.94-2.06 2.06-.94-2.06-.94-.94-2.06-.94 2.06-2.06.94zm-11 1L8.5 8.5l.94-2.06 2.06-.94-2.06-.94L8.5 2.5l-.94 2.06-2.06.94zm10 10l.94 2.06.94-2.06 2.06-.94-2.06-.94-.94-2.06-.94 2.06-2.06.94z\"/><path d=\"M17.41 7.96l-1.37-1.37c-.4-.4-.92-.59-1.43-.59-.52 0-1.04.2-1.43.59L10.3 9.45l-7.72 7.72c-.78.78-.78 2.05 0 2.83L4 21.41c.39.39.9.59 1.41.59.51 0 1.02-.2 1.41-.59l7.78-7.78 2.81-2.81c.8-.78.8-2.07 0-2.86zM5.41 20L4 18.59l7.72-7.72 1.47 1.35L5.41 20z\"/>\n",
              "  </svg>\n",
              "      </button>\n",
              "      \n",
              "  <style>\n",
              "    .colab-df-container {\n",
              "      display:flex;\n",
              "      flex-wrap:wrap;\n",
              "      gap: 12px;\n",
              "    }\n",
              "\n",
              "    .colab-df-convert {\n",
              "      background-color: #E8F0FE;\n",
              "      border: none;\n",
              "      border-radius: 50%;\n",
              "      cursor: pointer;\n",
              "      display: none;\n",
              "      fill: #1967D2;\n",
              "      height: 32px;\n",
              "      padding: 0 0 0 0;\n",
              "      width: 32px;\n",
              "    }\n",
              "\n",
              "    .colab-df-convert:hover {\n",
              "      background-color: #E2EBFA;\n",
              "      box-shadow: 0px 1px 2px rgba(60, 64, 67, 0.3), 0px 1px 3px 1px rgba(60, 64, 67, 0.15);\n",
              "      fill: #174EA6;\n",
              "    }\n",
              "\n",
              "    [theme=dark] .colab-df-convert {\n",
              "      background-color: #3B4455;\n",
              "      fill: #D2E3FC;\n",
              "    }\n",
              "\n",
              "    [theme=dark] .colab-df-convert:hover {\n",
              "      background-color: #434B5C;\n",
              "      box-shadow: 0px 1px 3px 1px rgba(0, 0, 0, 0.15);\n",
              "      filter: drop-shadow(0px 1px 2px rgba(0, 0, 0, 0.3));\n",
              "      fill: #FFFFFF;\n",
              "    }\n",
              "  </style>\n",
              "\n",
              "      <script>\n",
              "        const buttonEl =\n",
              "          document.querySelector('#df-f43d7954-892f-49e6-a24f-deb40285840d button.colab-df-convert');\n",
              "        buttonEl.style.display =\n",
              "          google.colab.kernel.accessAllowed ? 'block' : 'none';\n",
              "\n",
              "        async function convertToInteractive(key) {\n",
              "          const element = document.querySelector('#df-f43d7954-892f-49e6-a24f-deb40285840d');\n",
              "          const dataTable =\n",
              "            await google.colab.kernel.invokeFunction('convertToInteractive',\n",
              "                                                     [key], {});\n",
              "          if (!dataTable) return;\n",
              "\n",
              "          const docLinkHtml = 'Like what you see? Visit the ' +\n",
              "            '<a target=\"_blank\" href=https://colab.research.google.com/notebooks/data_table.ipynb>data table notebook</a>'\n",
              "            + ' to learn more about interactive tables.';\n",
              "          element.innerHTML = '';\n",
              "          dataTable['output_type'] = 'display_data';\n",
              "          await google.colab.output.renderOutput(dataTable, element);\n",
              "          const docLink = document.createElement('div');\n",
              "          docLink.innerHTML = docLinkHtml;\n",
              "          element.appendChild(docLink);\n",
              "        }\n",
              "      </script>\n",
              "    </div>\n",
              "  </div>\n",
              "  "
            ],
            "text/plain": [
              "                    Open          High           Low         Close  \\\n",
              "Date                                                                 \n",
              "2020-01-01  12202.150391  12222.200195  12165.299805  12182.500000   \n",
              "2020-01-02  12198.549805  12289.900391  12195.250000  12282.200195   \n",
              "2020-01-03  12261.099609  12265.599609  12191.349609  12226.650391   \n",
              "2020-01-06  12170.599609  12179.099609  11974.200195  11993.049805   \n",
              "2020-01-07  12079.099609  12152.150391  12005.349609  12052.950195   \n",
              "...                  ...           ...           ...           ...   \n",
              "2021-12-24  17149.500000  17155.599609  16909.599609  17003.750000   \n",
              "2021-12-27  16937.750000  17112.050781  16833.199219  17086.250000   \n",
              "2021-12-28  17177.599609  17250.250000  17161.150391  17233.250000   \n",
              "2021-12-29  17220.099609  17285.949219  17176.650391  17213.599609   \n",
              "2021-12-30  17201.449219  17264.050781  17146.349609  17203.949219   \n",
              "\n",
              "               Adj Close  Volume        SMA_20         MOM        RSI  \\\n",
              "Date                                                                    \n",
              "2020-01-01  12182.500000  304100           NaN         NaN        NaN   \n",
              "2020-01-02  12282.200195  407700           NaN         NaN        NaN   \n",
              "2020-01-03  12226.650391  428800           NaN         NaN        NaN   \n",
              "2020-01-06  11993.049805  396500           NaN         NaN        NaN   \n",
              "2020-01-07  12052.950195  447800           NaN         NaN        NaN   \n",
              "...                  ...     ...           ...         ...        ...   \n",
              "2021-12-24  17003.750000  182600  17147.712305 -507.550781  43.671429   \n",
              "2021-12-27  17086.250000  144800  17149.327344 -282.000000  45.922045   \n",
              "2021-12-28  17233.250000  176000  17161.829883  -91.650391  49.772915   \n",
              "2021-12-29  17213.599609  161700  17164.164844   -7.800781  49.267858   \n",
              "2021-12-30  17203.949219  320800  17154.279785  -44.451172  49.004864   \n",
              "\n",
              "                WILLR  ...        MACD      SIGNAL   MACDHIST     ULTOSC  \\\n",
              "Date                   ...                                                 \n",
              "2020-01-01        NaN  ...         NaN         NaN        NaN        NaN   \n",
              "2020-01-02        NaN  ...         NaN         NaN        NaN        NaN   \n",
              "2020-01-03        NaN  ...         NaN         NaN        NaN        NaN   \n",
              "2020-01-06        NaN  ...         NaN         NaN        NaN        NaN   \n",
              "2020-01-07        NaN  ...         NaN         NaN        NaN        NaN   \n",
              "...               ...  ...         ...         ...        ...        ...   \n",
              "2021-12-24 -51.716391  ... -172.818225 -166.335710  -6.482515  44.016750   \n",
              "2021-12-27 -45.005259  ... -158.872686 -164.843105   5.970419  48.644986   \n",
              "2021-12-28 -33.047242  ... -134.409683 -158.756421  24.346738  54.377966   \n",
              "2021-12-29 -34.645743  ... -115.279331 -150.061003  34.781672  57.999721   \n",
              "2021-12-30 -35.430774  ...  -99.747271 -139.998256  40.250986  59.509486   \n",
              "\n",
              "                   EMA20      TRIX      ROCR       PPO         DX        MFI  \n",
              "Date                                                                          \n",
              "2020-01-01           NaN       NaN       NaN       NaN        NaN        NaN  \n",
              "2020-01-02           NaN       NaN       NaN       NaN        NaN        NaN  \n",
              "2020-01-03           NaN       NaN       NaN       NaN        NaN        NaN  \n",
              "2020-01-06           NaN       NaN       NaN       NaN        NaN        NaN  \n",
              "2020-01-07           NaN       NaN       NaN       NaN        NaN        NaN  \n",
              "...                  ...       ...       ...       ...        ...        ...  \n",
              "2021-12-24  17176.748784 -0.019114  0.971016 -0.483645  28.463077  53.183777  \n",
              "2021-12-27  17168.129852 -0.023919  0.983763 -0.541303  31.435269  47.301998  \n",
              "2021-12-28  17174.331771 -0.028082  0.994710 -0.635345  21.593951  45.913781  \n",
              "2021-12-29  17178.071565 -0.031695  0.999547 -0.645909  19.112888  44.553568  \n",
              "2021-12-30  17180.536103 -0.034819  0.997423 -0.657634  20.593903  36.630402  \n",
              "\n",
              "[497 rows x 22 columns]"
            ]
          },
          "metadata": {},
          "execution_count": 131
        }
      ]
    },
    {
      "cell_type": "markdown",
      "source": [
        "# ***SELECTING REQUIRED COLUMNS***"
      ],
      "metadata": {
        "id": "zIIdVTl8wtIb"
      }
    },
    {
      "cell_type": "code",
      "source": [
        "import pandas as pd"
      ],
      "metadata": {
        "id": "SJW729KWwqbO"
      },
      "execution_count": null,
      "outputs": []
    },
    {
      "cell_type": "code",
      "source": [
        "cols=['SMA_20','MOM','RSI','WILLR','CCI','ADX','MACD','ULTOSC','EMA20','TRIX','PPO','DX','Close']\n",
        "df=pd.DataFrame()\n",
        "df=data[cols]\n"
      ],
      "metadata": {
        "id": "TWe3mj7Gw2DY"
      },
      "execution_count": null,
      "outputs": []
    },
    {
      "cell_type": "code",
      "source": [
        "df"
      ],
      "metadata": {
        "colab": {
          "base_uri": "https://localhost:8080/"
        },
        "id": "WLUXh4OmxzT3",
        "outputId": "7929fcb2-20b5-4bc8-98e2-6043ed8cde07"
      },
      "execution_count": null,
      "outputs": [
        {
          "output_type": "execute_result",
          "data": {
            "text/html": [
              "\n",
              "  <div id=\"df-945bb892-6511-471a-b3a2-64a3ca19da6c\">\n",
              "    <div class=\"colab-df-container\">\n",
              "      <div>\n",
              "<style scoped>\n",
              "    .dataframe tbody tr th:only-of-type {\n",
              "        vertical-align: middle;\n",
              "    }\n",
              "\n",
              "    .dataframe tbody tr th {\n",
              "        vertical-align: top;\n",
              "    }\n",
              "\n",
              "    .dataframe thead th {\n",
              "        text-align: right;\n",
              "    }\n",
              "</style>\n",
              "<table border=\"1\" class=\"dataframe\">\n",
              "  <thead>\n",
              "    <tr style=\"text-align: right;\">\n",
              "      <th></th>\n",
              "      <th>SMA_20</th>\n",
              "      <th>MOM</th>\n",
              "      <th>RSI</th>\n",
              "      <th>WILLR</th>\n",
              "      <th>CCI</th>\n",
              "      <th>ADX</th>\n",
              "      <th>MACD</th>\n",
              "      <th>ULTOSC</th>\n",
              "      <th>EMA20</th>\n",
              "      <th>TRIX</th>\n",
              "      <th>PPO</th>\n",
              "      <th>DX</th>\n",
              "      <th>Close</th>\n",
              "    </tr>\n",
              "    <tr>\n",
              "      <th>Date</th>\n",
              "      <th></th>\n",
              "      <th></th>\n",
              "      <th></th>\n",
              "      <th></th>\n",
              "      <th></th>\n",
              "      <th></th>\n",
              "      <th></th>\n",
              "      <th></th>\n",
              "      <th></th>\n",
              "      <th></th>\n",
              "      <th></th>\n",
              "      <th></th>\n",
              "      <th></th>\n",
              "    </tr>\n",
              "  </thead>\n",
              "  <tbody>\n",
              "    <tr>\n",
              "      <th>2020-01-01</th>\n",
              "      <td>NaN</td>\n",
              "      <td>NaN</td>\n",
              "      <td>NaN</td>\n",
              "      <td>NaN</td>\n",
              "      <td>NaN</td>\n",
              "      <td>NaN</td>\n",
              "      <td>NaN</td>\n",
              "      <td>NaN</td>\n",
              "      <td>NaN</td>\n",
              "      <td>NaN</td>\n",
              "      <td>NaN</td>\n",
              "      <td>NaN</td>\n",
              "      <td>12182.500000</td>\n",
              "    </tr>\n",
              "    <tr>\n",
              "      <th>2020-01-02</th>\n",
              "      <td>NaN</td>\n",
              "      <td>NaN</td>\n",
              "      <td>NaN</td>\n",
              "      <td>NaN</td>\n",
              "      <td>NaN</td>\n",
              "      <td>NaN</td>\n",
              "      <td>NaN</td>\n",
              "      <td>NaN</td>\n",
              "      <td>NaN</td>\n",
              "      <td>NaN</td>\n",
              "      <td>NaN</td>\n",
              "      <td>NaN</td>\n",
              "      <td>12282.200195</td>\n",
              "    </tr>\n",
              "    <tr>\n",
              "      <th>2020-01-03</th>\n",
              "      <td>NaN</td>\n",
              "      <td>NaN</td>\n",
              "      <td>NaN</td>\n",
              "      <td>NaN</td>\n",
              "      <td>NaN</td>\n",
              "      <td>NaN</td>\n",
              "      <td>NaN</td>\n",
              "      <td>NaN</td>\n",
              "      <td>NaN</td>\n",
              "      <td>NaN</td>\n",
              "      <td>NaN</td>\n",
              "      <td>NaN</td>\n",
              "      <td>12226.650391</td>\n",
              "    </tr>\n",
              "    <tr>\n",
              "      <th>2020-01-06</th>\n",
              "      <td>NaN</td>\n",
              "      <td>NaN</td>\n",
              "      <td>NaN</td>\n",
              "      <td>NaN</td>\n",
              "      <td>NaN</td>\n",
              "      <td>NaN</td>\n",
              "      <td>NaN</td>\n",
              "      <td>NaN</td>\n",
              "      <td>NaN</td>\n",
              "      <td>NaN</td>\n",
              "      <td>NaN</td>\n",
              "      <td>NaN</td>\n",
              "      <td>11993.049805</td>\n",
              "    </tr>\n",
              "    <tr>\n",
              "      <th>2020-01-07</th>\n",
              "      <td>NaN</td>\n",
              "      <td>NaN</td>\n",
              "      <td>NaN</td>\n",
              "      <td>NaN</td>\n",
              "      <td>NaN</td>\n",
              "      <td>NaN</td>\n",
              "      <td>NaN</td>\n",
              "      <td>NaN</td>\n",
              "      <td>NaN</td>\n",
              "      <td>NaN</td>\n",
              "      <td>NaN</td>\n",
              "      <td>NaN</td>\n",
              "      <td>12052.950195</td>\n",
              "    </tr>\n",
              "    <tr>\n",
              "      <th>...</th>\n",
              "      <td>...</td>\n",
              "      <td>...</td>\n",
              "      <td>...</td>\n",
              "      <td>...</td>\n",
              "      <td>...</td>\n",
              "      <td>...</td>\n",
              "      <td>...</td>\n",
              "      <td>...</td>\n",
              "      <td>...</td>\n",
              "      <td>...</td>\n",
              "      <td>...</td>\n",
              "      <td>...</td>\n",
              "      <td>...</td>\n",
              "    </tr>\n",
              "    <tr>\n",
              "      <th>2021-12-24</th>\n",
              "      <td>17147.712305</td>\n",
              "      <td>-507.550781</td>\n",
              "      <td>43.671429</td>\n",
              "      <td>-51.716391</td>\n",
              "      <td>-44.111658</td>\n",
              "      <td>25.656308</td>\n",
              "      <td>-172.818225</td>\n",
              "      <td>44.016750</td>\n",
              "      <td>17176.748784</td>\n",
              "      <td>-0.019114</td>\n",
              "      <td>-0.483645</td>\n",
              "      <td>28.463077</td>\n",
              "      <td>17003.750000</td>\n",
              "    </tr>\n",
              "    <tr>\n",
              "      <th>2021-12-27</th>\n",
              "      <td>17149.327344</td>\n",
              "      <td>-282.000000</td>\n",
              "      <td>45.922045</td>\n",
              "      <td>-45.005259</td>\n",
              "      <td>-43.302620</td>\n",
              "      <td>26.069091</td>\n",
              "      <td>-158.872686</td>\n",
              "      <td>48.644986</td>\n",
              "      <td>17168.129852</td>\n",
              "      <td>-0.023919</td>\n",
              "      <td>-0.541303</td>\n",
              "      <td>31.435269</td>\n",
              "      <td>17086.250000</td>\n",
              "    </tr>\n",
              "    <tr>\n",
              "      <th>2021-12-28</th>\n",
              "      <td>17161.829883</td>\n",
              "      <td>-91.650391</td>\n",
              "      <td>49.772915</td>\n",
              "      <td>-33.047242</td>\n",
              "      <td>23.066667</td>\n",
              "      <td>25.749438</td>\n",
              "      <td>-134.409683</td>\n",
              "      <td>54.377966</td>\n",
              "      <td>17174.331771</td>\n",
              "      <td>-0.028082</td>\n",
              "      <td>-0.635345</td>\n",
              "      <td>21.593951</td>\n",
              "      <td>17233.250000</td>\n",
              "    </tr>\n",
              "    <tr>\n",
              "      <th>2021-12-29</th>\n",
              "      <td>17164.164844</td>\n",
              "      <td>-7.800781</td>\n",
              "      <td>49.267858</td>\n",
              "      <td>-34.645743</td>\n",
              "      <td>35.194781</td>\n",
              "      <td>25.275399</td>\n",
              "      <td>-115.279331</td>\n",
              "      <td>57.999721</td>\n",
              "      <td>17178.071565</td>\n",
              "      <td>-0.031695</td>\n",
              "      <td>-0.645909</td>\n",
              "      <td>19.112888</td>\n",
              "      <td>17213.599609</td>\n",
              "    </tr>\n",
              "    <tr>\n",
              "      <th>2021-12-30</th>\n",
              "      <td>17154.279785</td>\n",
              "      <td>-44.451172</td>\n",
              "      <td>49.004864</td>\n",
              "      <td>-35.430774</td>\n",
              "      <td>38.991028</td>\n",
              "      <td>24.941006</td>\n",
              "      <td>-99.747271</td>\n",
              "      <td>59.509486</td>\n",
              "      <td>17180.536103</td>\n",
              "      <td>-0.034819</td>\n",
              "      <td>-0.657634</td>\n",
              "      <td>20.593903</td>\n",
              "      <td>17203.949219</td>\n",
              "    </tr>\n",
              "  </tbody>\n",
              "</table>\n",
              "<p>497 rows × 13 columns</p>\n",
              "</div>\n",
              "      <button class=\"colab-df-convert\" onclick=\"convertToInteractive('df-945bb892-6511-471a-b3a2-64a3ca19da6c')\"\n",
              "              title=\"Convert this dataframe to an interactive table.\"\n",
              "              style=\"display:none;\">\n",
              "        \n",
              "  <svg xmlns=\"http://www.w3.org/2000/svg\" height=\"24px\"viewBox=\"0 0 24 24\"\n",
              "       width=\"24px\">\n",
              "    <path d=\"M0 0h24v24H0V0z\" fill=\"none\"/>\n",
              "    <path d=\"M18.56 5.44l.94 2.06.94-2.06 2.06-.94-2.06-.94-.94-2.06-.94 2.06-2.06.94zm-11 1L8.5 8.5l.94-2.06 2.06-.94-2.06-.94L8.5 2.5l-.94 2.06-2.06.94zm10 10l.94 2.06.94-2.06 2.06-.94-2.06-.94-.94-2.06-.94 2.06-2.06.94z\"/><path d=\"M17.41 7.96l-1.37-1.37c-.4-.4-.92-.59-1.43-.59-.52 0-1.04.2-1.43.59L10.3 9.45l-7.72 7.72c-.78.78-.78 2.05 0 2.83L4 21.41c.39.39.9.59 1.41.59.51 0 1.02-.2 1.41-.59l7.78-7.78 2.81-2.81c.8-.78.8-2.07 0-2.86zM5.41 20L4 18.59l7.72-7.72 1.47 1.35L5.41 20z\"/>\n",
              "  </svg>\n",
              "      </button>\n",
              "      \n",
              "  <style>\n",
              "    .colab-df-container {\n",
              "      display:flex;\n",
              "      flex-wrap:wrap;\n",
              "      gap: 12px;\n",
              "    }\n",
              "\n",
              "    .colab-df-convert {\n",
              "      background-color: #E8F0FE;\n",
              "      border: none;\n",
              "      border-radius: 50%;\n",
              "      cursor: pointer;\n",
              "      display: none;\n",
              "      fill: #1967D2;\n",
              "      height: 32px;\n",
              "      padding: 0 0 0 0;\n",
              "      width: 32px;\n",
              "    }\n",
              "\n",
              "    .colab-df-convert:hover {\n",
              "      background-color: #E2EBFA;\n",
              "      box-shadow: 0px 1px 2px rgba(60, 64, 67, 0.3), 0px 1px 3px 1px rgba(60, 64, 67, 0.15);\n",
              "      fill: #174EA6;\n",
              "    }\n",
              "\n",
              "    [theme=dark] .colab-df-convert {\n",
              "      background-color: #3B4455;\n",
              "      fill: #D2E3FC;\n",
              "    }\n",
              "\n",
              "    [theme=dark] .colab-df-convert:hover {\n",
              "      background-color: #434B5C;\n",
              "      box-shadow: 0px 1px 3px 1px rgba(0, 0, 0, 0.15);\n",
              "      filter: drop-shadow(0px 1px 2px rgba(0, 0, 0, 0.3));\n",
              "      fill: #FFFFFF;\n",
              "    }\n",
              "  </style>\n",
              "\n",
              "      <script>\n",
              "        const buttonEl =\n",
              "          document.querySelector('#df-945bb892-6511-471a-b3a2-64a3ca19da6c button.colab-df-convert');\n",
              "        buttonEl.style.display =\n",
              "          google.colab.kernel.accessAllowed ? 'block' : 'none';\n",
              "\n",
              "        async function convertToInteractive(key) {\n",
              "          const element = document.querySelector('#df-945bb892-6511-471a-b3a2-64a3ca19da6c');\n",
              "          const dataTable =\n",
              "            await google.colab.kernel.invokeFunction('convertToInteractive',\n",
              "                                                     [key], {});\n",
              "          if (!dataTable) return;\n",
              "\n",
              "          const docLinkHtml = 'Like what you see? Visit the ' +\n",
              "            '<a target=\"_blank\" href=https://colab.research.google.com/notebooks/data_table.ipynb>data table notebook</a>'\n",
              "            + ' to learn more about interactive tables.';\n",
              "          element.innerHTML = '';\n",
              "          dataTable['output_type'] = 'display_data';\n",
              "          await google.colab.output.renderOutput(dataTable, element);\n",
              "          const docLink = document.createElement('div');\n",
              "          docLink.innerHTML = docLinkHtml;\n",
              "          element.appendChild(docLink);\n",
              "        }\n",
              "      </script>\n",
              "    </div>\n",
              "  </div>\n",
              "  "
            ],
            "text/plain": [
              "                  SMA_20         MOM        RSI      WILLR        CCI  \\\n",
              "Date                                                                    \n",
              "2020-01-01           NaN         NaN        NaN        NaN        NaN   \n",
              "2020-01-02           NaN         NaN        NaN        NaN        NaN   \n",
              "2020-01-03           NaN         NaN        NaN        NaN        NaN   \n",
              "2020-01-06           NaN         NaN        NaN        NaN        NaN   \n",
              "2020-01-07           NaN         NaN        NaN        NaN        NaN   \n",
              "...                  ...         ...        ...        ...        ...   \n",
              "2021-12-24  17147.712305 -507.550781  43.671429 -51.716391 -44.111658   \n",
              "2021-12-27  17149.327344 -282.000000  45.922045 -45.005259 -43.302620   \n",
              "2021-12-28  17161.829883  -91.650391  49.772915 -33.047242  23.066667   \n",
              "2021-12-29  17164.164844   -7.800781  49.267858 -34.645743  35.194781   \n",
              "2021-12-30  17154.279785  -44.451172  49.004864 -35.430774  38.991028   \n",
              "\n",
              "                  ADX        MACD     ULTOSC         EMA20      TRIX  \\\n",
              "Date                                                                   \n",
              "2020-01-01        NaN         NaN        NaN           NaN       NaN   \n",
              "2020-01-02        NaN         NaN        NaN           NaN       NaN   \n",
              "2020-01-03        NaN         NaN        NaN           NaN       NaN   \n",
              "2020-01-06        NaN         NaN        NaN           NaN       NaN   \n",
              "2020-01-07        NaN         NaN        NaN           NaN       NaN   \n",
              "...               ...         ...        ...           ...       ...   \n",
              "2021-12-24  25.656308 -172.818225  44.016750  17176.748784 -0.019114   \n",
              "2021-12-27  26.069091 -158.872686  48.644986  17168.129852 -0.023919   \n",
              "2021-12-28  25.749438 -134.409683  54.377966  17174.331771 -0.028082   \n",
              "2021-12-29  25.275399 -115.279331  57.999721  17178.071565 -0.031695   \n",
              "2021-12-30  24.941006  -99.747271  59.509486  17180.536103 -0.034819   \n",
              "\n",
              "                 PPO         DX         Close  \n",
              "Date                                           \n",
              "2020-01-01       NaN        NaN  12182.500000  \n",
              "2020-01-02       NaN        NaN  12282.200195  \n",
              "2020-01-03       NaN        NaN  12226.650391  \n",
              "2020-01-06       NaN        NaN  11993.049805  \n",
              "2020-01-07       NaN        NaN  12052.950195  \n",
              "...              ...        ...           ...  \n",
              "2021-12-24 -0.483645  28.463077  17003.750000  \n",
              "2021-12-27 -0.541303  31.435269  17086.250000  \n",
              "2021-12-28 -0.635345  21.593951  17233.250000  \n",
              "2021-12-29 -0.645909  19.112888  17213.599609  \n",
              "2021-12-30 -0.657634  20.593903  17203.949219  \n",
              "\n",
              "[497 rows x 13 columns]"
            ]
          },
          "metadata": {},
          "execution_count": 134
        }
      ]
    },
    {
      "cell_type": "code",
      "source": [
        "df=df[88:]"
      ],
      "metadata": {
        "id": "Nf-F1tziCsV8"
      },
      "execution_count": null,
      "outputs": []
    },
    {
      "cell_type": "code",
      "source": [
        "df"
      ],
      "metadata": {
        "colab": {
          "base_uri": "https://localhost:8080/"
        },
        "id": "G39uni65Cv-5",
        "outputId": "fbd88252-238e-474a-9fd7-cbdb10a4b270"
      },
      "execution_count": null,
      "outputs": [
        {
          "output_type": "execute_result",
          "data": {
            "text/html": [
              "\n",
              "  <div id=\"df-3625f34f-7d56-4137-8af7-3edf645a6373\">\n",
              "    <div class=\"colab-df-container\">\n",
              "      <div>\n",
              "<style scoped>\n",
              "    .dataframe tbody tr th:only-of-type {\n",
              "        vertical-align: middle;\n",
              "    }\n",
              "\n",
              "    .dataframe tbody tr th {\n",
              "        vertical-align: top;\n",
              "    }\n",
              "\n",
              "    .dataframe thead th {\n",
              "        text-align: right;\n",
              "    }\n",
              "</style>\n",
              "<table border=\"1\" class=\"dataframe\">\n",
              "  <thead>\n",
              "    <tr style=\"text-align: right;\">\n",
              "      <th></th>\n",
              "      <th>SMA_20</th>\n",
              "      <th>MOM</th>\n",
              "      <th>RSI</th>\n",
              "      <th>WILLR</th>\n",
              "      <th>CCI</th>\n",
              "      <th>ADX</th>\n",
              "      <th>MACD</th>\n",
              "      <th>ULTOSC</th>\n",
              "      <th>EMA20</th>\n",
              "      <th>TRIX</th>\n",
              "      <th>PPO</th>\n",
              "      <th>DX</th>\n",
              "      <th>Close</th>\n",
              "    </tr>\n",
              "    <tr>\n",
              "      <th>Date</th>\n",
              "      <th></th>\n",
              "      <th></th>\n",
              "      <th></th>\n",
              "      <th></th>\n",
              "      <th></th>\n",
              "      <th></th>\n",
              "      <th></th>\n",
              "      <th></th>\n",
              "      <th></th>\n",
              "      <th></th>\n",
              "      <th></th>\n",
              "      <th></th>\n",
              "      <th></th>\n",
              "    </tr>\n",
              "  </thead>\n",
              "  <tbody>\n",
              "    <tr>\n",
              "      <th>2020-05-13</th>\n",
              "      <td>9260.002490</td>\n",
              "      <td>2.649414</td>\n",
              "      <td>52.154350</td>\n",
              "      <td>-59.815434</td>\n",
              "      <td>58.436135</td>\n",
              "      <td>14.582982</td>\n",
              "      <td>-3.411751</td>\n",
              "      <td>41.208322</td>\n",
              "      <td>9248.926850</td>\n",
              "      <td>-0.472825</td>\n",
              "      <td>2.417655</td>\n",
              "      <td>9.373365</td>\n",
              "      <td>9383.549805</td>\n",
              "    </tr>\n",
              "    <tr>\n",
              "      <th>2020-05-14</th>\n",
              "      <td>9270.875000</td>\n",
              "      <td>-410.599609</td>\n",
              "      <td>47.246427</td>\n",
              "      <td>-88.309094</td>\n",
              "      <td>-86.180029</td>\n",
              "      <td>13.591079</td>\n",
              "      <td>-13.508702</td>\n",
              "      <td>40.254070</td>\n",
              "      <td>9238.814769</td>\n",
              "      <td>-0.459150</td>\n",
              "      <td>1.908232</td>\n",
              "      <td>0.696341</td>\n",
              "      <td>9142.750000</td>\n",
              "    </tr>\n",
              "    <tr>\n",
              "      <th>2020-05-15</th>\n",
              "      <td>9278.077490</td>\n",
              "      <td>-723.050781</td>\n",
              "      <td>47.129394</td>\n",
              "      <td>-89.007282</td>\n",
              "      <td>-112.390121</td>\n",
              "      <td>12.875904</td>\n",
              "      <td>-21.736160</td>\n",
              "      <td>39.665013</td>\n",
              "      <td>9229.103802</td>\n",
              "      <td>-0.445783</td>\n",
              "      <td>1.238327</td>\n",
              "      <td>3.578637</td>\n",
              "      <td>9136.849609</td>\n",
              "    </tr>\n",
              "    <tr>\n",
              "      <th>2020-05-18</th>\n",
              "      <td>9255.902490</td>\n",
              "      <td>-470.250000</td>\n",
              "      <td>41.277077</td>\n",
              "      <td>-98.475469</td>\n",
              "      <td>-176.178270</td>\n",
              "      <td>12.888795</td>\n",
              "      <td>-52.950962</td>\n",
              "      <td>35.102372</td>\n",
              "      <td>9190.451059</td>\n",
              "      <td>-0.433527</td>\n",
              "      <td>0.563743</td>\n",
              "      <td>13.056370</td>\n",
              "      <td>8823.250000</td>\n",
              "    </tr>\n",
              "    <tr>\n",
              "      <th>2020-05-19</th>\n",
              "      <td>9236.764990</td>\n",
              "      <td>-326.500000</td>\n",
              "      <td>42.643078</td>\n",
              "      <td>-93.315197</td>\n",
              "      <td>-145.616893</td>\n",
              "      <td>12.900764</td>\n",
              "      <td>-72.348334</td>\n",
              "      <td>34.419197</td>\n",
              "      <td>9160.798540</td>\n",
              "      <td>-0.422080</td>\n",
              "      <td>-0.379119</td>\n",
              "      <td>13.056370</td>\n",
              "      <td>8879.099609</td>\n",
              "    </tr>\n",
              "    <tr>\n",
              "      <th>...</th>\n",
              "      <td>...</td>\n",
              "      <td>...</td>\n",
              "      <td>...</td>\n",
              "      <td>...</td>\n",
              "      <td>...</td>\n",
              "      <td>...</td>\n",
              "      <td>...</td>\n",
              "      <td>...</td>\n",
              "      <td>...</td>\n",
              "      <td>...</td>\n",
              "      <td>...</td>\n",
              "      <td>...</td>\n",
              "      <td>...</td>\n",
              "    </tr>\n",
              "    <tr>\n",
              "      <th>2021-12-24</th>\n",
              "      <td>17147.712305</td>\n",
              "      <td>-507.550781</td>\n",
              "      <td>43.671429</td>\n",
              "      <td>-51.716391</td>\n",
              "      <td>-44.111658</td>\n",
              "      <td>25.656308</td>\n",
              "      <td>-172.818225</td>\n",
              "      <td>44.016750</td>\n",
              "      <td>17176.748784</td>\n",
              "      <td>-0.019114</td>\n",
              "      <td>-0.483645</td>\n",
              "      <td>28.463077</td>\n",
              "      <td>17003.750000</td>\n",
              "    </tr>\n",
              "    <tr>\n",
              "      <th>2021-12-27</th>\n",
              "      <td>17149.327344</td>\n",
              "      <td>-282.000000</td>\n",
              "      <td>45.922045</td>\n",
              "      <td>-45.005259</td>\n",
              "      <td>-43.302620</td>\n",
              "      <td>26.069091</td>\n",
              "      <td>-158.872686</td>\n",
              "      <td>48.644986</td>\n",
              "      <td>17168.129852</td>\n",
              "      <td>-0.023919</td>\n",
              "      <td>-0.541303</td>\n",
              "      <td>31.435269</td>\n",
              "      <td>17086.250000</td>\n",
              "    </tr>\n",
              "    <tr>\n",
              "      <th>2021-12-28</th>\n",
              "      <td>17161.829883</td>\n",
              "      <td>-91.650391</td>\n",
              "      <td>49.772915</td>\n",
              "      <td>-33.047242</td>\n",
              "      <td>23.066667</td>\n",
              "      <td>25.749438</td>\n",
              "      <td>-134.409683</td>\n",
              "      <td>54.377966</td>\n",
              "      <td>17174.331771</td>\n",
              "      <td>-0.028082</td>\n",
              "      <td>-0.635345</td>\n",
              "      <td>21.593951</td>\n",
              "      <td>17233.250000</td>\n",
              "    </tr>\n",
              "    <tr>\n",
              "      <th>2021-12-29</th>\n",
              "      <td>17164.164844</td>\n",
              "      <td>-7.800781</td>\n",
              "      <td>49.267858</td>\n",
              "      <td>-34.645743</td>\n",
              "      <td>35.194781</td>\n",
              "      <td>25.275399</td>\n",
              "      <td>-115.279331</td>\n",
              "      <td>57.999721</td>\n",
              "      <td>17178.071565</td>\n",
              "      <td>-0.031695</td>\n",
              "      <td>-0.645909</td>\n",
              "      <td>19.112888</td>\n",
              "      <td>17213.599609</td>\n",
              "    </tr>\n",
              "    <tr>\n",
              "      <th>2021-12-30</th>\n",
              "      <td>17154.279785</td>\n",
              "      <td>-44.451172</td>\n",
              "      <td>49.004864</td>\n",
              "      <td>-35.430774</td>\n",
              "      <td>38.991028</td>\n",
              "      <td>24.941006</td>\n",
              "      <td>-99.747271</td>\n",
              "      <td>59.509486</td>\n",
              "      <td>17180.536103</td>\n",
              "      <td>-0.034819</td>\n",
              "      <td>-0.657634</td>\n",
              "      <td>20.593903</td>\n",
              "      <td>17203.949219</td>\n",
              "    </tr>\n",
              "  </tbody>\n",
              "</table>\n",
              "<p>409 rows × 13 columns</p>\n",
              "</div>\n",
              "      <button class=\"colab-df-convert\" onclick=\"convertToInteractive('df-3625f34f-7d56-4137-8af7-3edf645a6373')\"\n",
              "              title=\"Convert this dataframe to an interactive table.\"\n",
              "              style=\"display:none;\">\n",
              "        \n",
              "  <svg xmlns=\"http://www.w3.org/2000/svg\" height=\"24px\"viewBox=\"0 0 24 24\"\n",
              "       width=\"24px\">\n",
              "    <path d=\"M0 0h24v24H0V0z\" fill=\"none\"/>\n",
              "    <path d=\"M18.56 5.44l.94 2.06.94-2.06 2.06-.94-2.06-.94-.94-2.06-.94 2.06-2.06.94zm-11 1L8.5 8.5l.94-2.06 2.06-.94-2.06-.94L8.5 2.5l-.94 2.06-2.06.94zm10 10l.94 2.06.94-2.06 2.06-.94-2.06-.94-.94-2.06-.94 2.06-2.06.94z\"/><path d=\"M17.41 7.96l-1.37-1.37c-.4-.4-.92-.59-1.43-.59-.52 0-1.04.2-1.43.59L10.3 9.45l-7.72 7.72c-.78.78-.78 2.05 0 2.83L4 21.41c.39.39.9.59 1.41.59.51 0 1.02-.2 1.41-.59l7.78-7.78 2.81-2.81c.8-.78.8-2.07 0-2.86zM5.41 20L4 18.59l7.72-7.72 1.47 1.35L5.41 20z\"/>\n",
              "  </svg>\n",
              "      </button>\n",
              "      \n",
              "  <style>\n",
              "    .colab-df-container {\n",
              "      display:flex;\n",
              "      flex-wrap:wrap;\n",
              "      gap: 12px;\n",
              "    }\n",
              "\n",
              "    .colab-df-convert {\n",
              "      background-color: #E8F0FE;\n",
              "      border: none;\n",
              "      border-radius: 50%;\n",
              "      cursor: pointer;\n",
              "      display: none;\n",
              "      fill: #1967D2;\n",
              "      height: 32px;\n",
              "      padding: 0 0 0 0;\n",
              "      width: 32px;\n",
              "    }\n",
              "\n",
              "    .colab-df-convert:hover {\n",
              "      background-color: #E2EBFA;\n",
              "      box-shadow: 0px 1px 2px rgba(60, 64, 67, 0.3), 0px 1px 3px 1px rgba(60, 64, 67, 0.15);\n",
              "      fill: #174EA6;\n",
              "    }\n",
              "\n",
              "    [theme=dark] .colab-df-convert {\n",
              "      background-color: #3B4455;\n",
              "      fill: #D2E3FC;\n",
              "    }\n",
              "\n",
              "    [theme=dark] .colab-df-convert:hover {\n",
              "      background-color: #434B5C;\n",
              "      box-shadow: 0px 1px 3px 1px rgba(0, 0, 0, 0.15);\n",
              "      filter: drop-shadow(0px 1px 2px rgba(0, 0, 0, 0.3));\n",
              "      fill: #FFFFFF;\n",
              "    }\n",
              "  </style>\n",
              "\n",
              "      <script>\n",
              "        const buttonEl =\n",
              "          document.querySelector('#df-3625f34f-7d56-4137-8af7-3edf645a6373 button.colab-df-convert');\n",
              "        buttonEl.style.display =\n",
              "          google.colab.kernel.accessAllowed ? 'block' : 'none';\n",
              "\n",
              "        async function convertToInteractive(key) {\n",
              "          const element = document.querySelector('#df-3625f34f-7d56-4137-8af7-3edf645a6373');\n",
              "          const dataTable =\n",
              "            await google.colab.kernel.invokeFunction('convertToInteractive',\n",
              "                                                     [key], {});\n",
              "          if (!dataTable) return;\n",
              "\n",
              "          const docLinkHtml = 'Like what you see? Visit the ' +\n",
              "            '<a target=\"_blank\" href=https://colab.research.google.com/notebooks/data_table.ipynb>data table notebook</a>'\n",
              "            + ' to learn more about interactive tables.';\n",
              "          element.innerHTML = '';\n",
              "          dataTable['output_type'] = 'display_data';\n",
              "          await google.colab.output.renderOutput(dataTable, element);\n",
              "          const docLink = document.createElement('div');\n",
              "          docLink.innerHTML = docLinkHtml;\n",
              "          element.appendChild(docLink);\n",
              "        }\n",
              "      </script>\n",
              "    </div>\n",
              "  </div>\n",
              "  "
            ],
            "text/plain": [
              "                  SMA_20         MOM        RSI      WILLR         CCI  \\\n",
              "Date                                                                     \n",
              "2020-05-13   9260.002490    2.649414  52.154350 -59.815434   58.436135   \n",
              "2020-05-14   9270.875000 -410.599609  47.246427 -88.309094  -86.180029   \n",
              "2020-05-15   9278.077490 -723.050781  47.129394 -89.007282 -112.390121   \n",
              "2020-05-18   9255.902490 -470.250000  41.277077 -98.475469 -176.178270   \n",
              "2020-05-19   9236.764990 -326.500000  42.643078 -93.315197 -145.616893   \n",
              "...                  ...         ...        ...        ...         ...   \n",
              "2021-12-24  17147.712305 -507.550781  43.671429 -51.716391  -44.111658   \n",
              "2021-12-27  17149.327344 -282.000000  45.922045 -45.005259  -43.302620   \n",
              "2021-12-28  17161.829883  -91.650391  49.772915 -33.047242   23.066667   \n",
              "2021-12-29  17164.164844   -7.800781  49.267858 -34.645743   35.194781   \n",
              "2021-12-30  17154.279785  -44.451172  49.004864 -35.430774   38.991028   \n",
              "\n",
              "                  ADX        MACD     ULTOSC         EMA20      TRIX  \\\n",
              "Date                                                                   \n",
              "2020-05-13  14.582982   -3.411751  41.208322   9248.926850 -0.472825   \n",
              "2020-05-14  13.591079  -13.508702  40.254070   9238.814769 -0.459150   \n",
              "2020-05-15  12.875904  -21.736160  39.665013   9229.103802 -0.445783   \n",
              "2020-05-18  12.888795  -52.950962  35.102372   9190.451059 -0.433527   \n",
              "2020-05-19  12.900764  -72.348334  34.419197   9160.798540 -0.422080   \n",
              "...               ...         ...        ...           ...       ...   \n",
              "2021-12-24  25.656308 -172.818225  44.016750  17176.748784 -0.019114   \n",
              "2021-12-27  26.069091 -158.872686  48.644986  17168.129852 -0.023919   \n",
              "2021-12-28  25.749438 -134.409683  54.377966  17174.331771 -0.028082   \n",
              "2021-12-29  25.275399 -115.279331  57.999721  17178.071565 -0.031695   \n",
              "2021-12-30  24.941006  -99.747271  59.509486  17180.536103 -0.034819   \n",
              "\n",
              "                 PPO         DX         Close  \n",
              "Date                                           \n",
              "2020-05-13  2.417655   9.373365   9383.549805  \n",
              "2020-05-14  1.908232   0.696341   9142.750000  \n",
              "2020-05-15  1.238327   3.578637   9136.849609  \n",
              "2020-05-18  0.563743  13.056370   8823.250000  \n",
              "2020-05-19 -0.379119  13.056370   8879.099609  \n",
              "...              ...        ...           ...  \n",
              "2021-12-24 -0.483645  28.463077  17003.750000  \n",
              "2021-12-27 -0.541303  31.435269  17086.250000  \n",
              "2021-12-28 -0.635345  21.593951  17233.250000  \n",
              "2021-12-29 -0.645909  19.112888  17213.599609  \n",
              "2021-12-30 -0.657634  20.593903  17203.949219  \n",
              "\n",
              "[409 rows x 13 columns]"
            ]
          },
          "metadata": {},
          "execution_count": 136
        }
      ]
    },
    {
      "cell_type": "code",
      "source": [
        "df.isnull().sum()"
      ],
      "metadata": {
        "colab": {
          "base_uri": "https://localhost:8080/"
        },
        "id": "FC_gwykUCxkC",
        "outputId": "46a4f70a-a138-4bfc-9aeb-327b6b7affb7"
      },
      "execution_count": null,
      "outputs": [
        {
          "output_type": "execute_result",
          "data": {
            "text/plain": [
              "SMA_20    0\n",
              "MOM       0\n",
              "RSI       0\n",
              "WILLR     0\n",
              "CCI       0\n",
              "ADX       0\n",
              "MACD      0\n",
              "ULTOSC    0\n",
              "EMA20     0\n",
              "TRIX      0\n",
              "PPO       0\n",
              "DX        0\n",
              "Close     0\n",
              "dtype: int64"
            ]
          },
          "metadata": {},
          "execution_count": 137
        }
      ]
    },
    {
      "cell_type": "markdown",
      "source": [
        "# ***TRANSFORMATIONS***"
      ],
      "metadata": {
        "id": "QNw6oaeKC2Re"
      }
    },
    {
      "cell_type": "code",
      "source": [
        "length=len(df)"
      ],
      "metadata": {
        "id": "1c9BVwoGyeJa"
      },
      "execution_count": null,
      "outputs": []
    },
    {
      "cell_type": "markdown",
      "source": [
        "***Changing Close Value***"
      ],
      "metadata": {
        "id": "iEEn0Qyoxg9P"
      }
    },
    {
      "cell_type": "code",
      "source": [
        "for i in range(0,length-1):\n",
        "      if df.values[i+1,12]>df.values[i,12] :\n",
        "         df.values[i,12]=+1\n",
        "      else :\n",
        "         df.values[i,12]=-1"
      ],
      "metadata": {
        "id": "yhiDlTIKC6b7"
      },
      "execution_count": null,
      "outputs": []
    },
    {
      "cell_type": "markdown",
      "source": [
        "***Changing SMA_20 Value***"
      ],
      "metadata": {
        "id": "zKl-qFlwxon1"
      }
    },
    {
      "cell_type": "code",
      "source": [
        "moving_avg=df['SMA_20'].mean()\n",
        "print(moving_avg)"
      ],
      "metadata": {
        "id": "gS_I8-KOy44P",
        "colab": {
          "base_uri": "https://localhost:8080/"
        },
        "outputId": "bbdc29db-8d42-4820-c3fe-a613960c825d"
      },
      "execution_count": null,
      "outputs": [
        {
          "output_type": "stream",
          "name": "stdout",
          "text": [
            "14029.93186793246\n"
          ]
        }
      ]
    },
    {
      "cell_type": "code",
      "source": [
        "for i in range(1,length-1):\n",
        "      if df.values[i,0]>moving_avg:\n",
        "         df.values[i-1,0]=+1\n",
        "      else :\n",
        "         df.values[i-1,0]=-1"
      ],
      "metadata": {
        "id": "Tt6dMHu2zqM9"
      },
      "execution_count": null,
      "outputs": []
    },
    {
      "cell_type": "markdown",
      "source": [
        "***Changing MOM Value***"
      ],
      "metadata": {
        "id": "54i8IzYmxsU2"
      }
    },
    {
      "cell_type": "code",
      "source": [
        "for i in range(1,length-1):\n",
        "      if df.values[i,1]>0 :\n",
        "         df.values[i-1,1]=+1\n",
        "      else :\n",
        "         df.values[i-1,1]=-1"
      ],
      "metadata": {
        "id": "YcwAIQ9g0Bzb"
      },
      "execution_count": null,
      "outputs": []
    },
    {
      "cell_type": "markdown",
      "source": [
        "***Changing RSI Value***"
      ],
      "metadata": {
        "id": "OLoc6jHvxuot"
      }
    },
    {
      "cell_type": "code",
      "source": [
        "for i in range(0,length-1):\n",
        "      if df.values[i,2]<=70 and df.values[i,2]>=30 :\n",
        "         if df.values[i+1,2]>df.values[i,2]:\n",
        "           df.values[i,2]=+1\n",
        "         else:\n",
        "           df.values[i,2]=-1\n"
      ],
      "metadata": {
        "id": "f-mojevB0RWl"
      },
      "execution_count": null,
      "outputs": []
    },
    {
      "cell_type": "code",
      "source": [
        "for i in range(0,length-1):\n",
        "      if df.values[i,2]!=1 and df.values[i,2]!=-1:\n",
        "        if df.values[i,2]>70:\n",
        "          df.values[i,2]=-1\n",
        "        else:\n",
        "          df.values[i,2]=+1"
      ],
      "metadata": {
        "id": "kXU8HHxpCOFL"
      },
      "execution_count": null,
      "outputs": []
    },
    {
      "cell_type": "markdown",
      "source": [
        "***Changing WILLR Value***"
      ],
      "metadata": {
        "id": "CWmV8Ge2xw9N"
      }
    },
    {
      "cell_type": "code",
      "source": [
        "for i in range(0,length-1):\n",
        "      if df.values[i+1,3]>df.values[i,3] :\n",
        "         df.values[i,3]=+1\n",
        "      else :\n",
        "         df.values[i,3]=-1"
      ],
      "metadata": {
        "id": "VYWY55_vDwJU"
      },
      "execution_count": null,
      "outputs": []
    },
    {
      "cell_type": "markdown",
      "source": [
        "***Changing CCI Value***"
      ],
      "metadata": {
        "id": "kXDTOUUVxzdb"
      }
    },
    {
      "cell_type": "code",
      "source": [
        "for i in range(0,length-1):\n",
        "      if df.values[i,4]<=200 and df.values[i,4]>=-200 :\n",
        "         if df.values[i+1,4]>df.values[i,4]:\n",
        "           df.values[i,4]=+1\n",
        "         else:\n",
        "           df.values[i,4]=-1"
      ],
      "metadata": {
        "id": "bT70G_ieatM6"
      },
      "execution_count": null,
      "outputs": []
    },
    {
      "cell_type": "code",
      "source": [
        "for i in range(0,length-1):\n",
        "      if df.values[i,4]!=1 and df.values[i,4]!=-1:\n",
        "        if df.values[i,4]>200:\n",
        "          df.values[i,4]=-1\n",
        "        else:\n",
        "          df.values[i,4]=+1"
      ],
      "metadata": {
        "id": "DXJ_AJtYbMjg"
      },
      "execution_count": null,
      "outputs": []
    },
    {
      "cell_type": "markdown",
      "source": [
        "***Changing ADX Value***"
      ],
      "metadata": {
        "id": "0Ngmh9w9x2cO"
      }
    },
    {
      "cell_type": "code",
      "source": [
        "for i in range(1,length-1):\n",
        "      if df.values[i,5]>=25 :\n",
        "         df.values[i-1,5]=+1\n",
        "      else :\n",
        "         df.values[i-1,5]=-1"
      ],
      "metadata": {
        "id": "TSPMW8O6dWwE"
      },
      "execution_count": null,
      "outputs": []
    },
    {
      "cell_type": "markdown",
      "source": [
        "***Changing MACD Value***"
      ],
      "metadata": {
        "id": "_i3_wrinx5Ma"
      }
    },
    {
      "cell_type": "code",
      "source": [
        "for i in range(0,length-1):\n",
        "      if df.values[i+1,6]>df.values[i,6] :\n",
        "         df.values[i,6]=+1\n",
        "      else :\n",
        "         df.values[i,6]=-1"
      ],
      "metadata": {
        "id": "zgWd3RLod1r1"
      },
      "execution_count": null,
      "outputs": []
    },
    {
      "cell_type": "markdown",
      "source": [
        "***Changing ULTOSC Value***"
      ],
      "metadata": {
        "id": "r8scbC3Ux90w"
      }
    },
    {
      "cell_type": "code",
      "source": [
        "for i in range(0,length-1):\n",
        "      if df.values[i,7]<=70 and df.values[i,7]>=30 :\n",
        "         if df.values[i+1,7]>df.values[i,7]:\n",
        "           df.values[i,7]=+1\n",
        "         else:\n",
        "           df.values[i,7]=-1\n"
      ],
      "metadata": {
        "id": "-j6ufAZBeqCg"
      },
      "execution_count": null,
      "outputs": []
    },
    {
      "cell_type": "code",
      "source": [
        "for i in range(0,length-1):\n",
        "      if df.values[i,7]!=1 and df.values[i,7]!=-1:\n",
        "        if df.values[i,7]>70:\n",
        "          df.values[i,7]=-1\n",
        "        else:\n",
        "          df.values[i,7]=+1"
      ],
      "metadata": {
        "id": "NXZS0XLBgdHH"
      },
      "execution_count": null,
      "outputs": []
    },
    {
      "cell_type": "markdown",
      "source": [
        "***Changing EMA20 Value***"
      ],
      "metadata": {
        "id": "1LWQtscjyAz2"
      }
    },
    {
      "cell_type": "code",
      "source": [
        "moving_avg=df['EMA20'].mean()\n",
        "print(moving_avg)"
      ],
      "metadata": {
        "colab": {
          "base_uri": "https://localhost:8080/"
        },
        "id": "M7nghYBDhEfy",
        "outputId": "d42080a0-a4ef-4bdc-e2d2-f4699f529cda"
      },
      "execution_count": null,
      "outputs": [
        {
          "output_type": "stream",
          "name": "stdout",
          "text": [
            "14027.031248280968\n"
          ]
        }
      ]
    },
    {
      "cell_type": "code",
      "source": [
        "for i in range(1,length-1):\n",
        "      if df.values[i,8]>moving_avg:\n",
        "         df.values[i-1,8]=+1\n",
        "      else :\n",
        "         df.values[i-1,8]=-1"
      ],
      "metadata": {
        "id": "Dwfs4F41hBDH"
      },
      "execution_count": null,
      "outputs": []
    },
    {
      "cell_type": "markdown",
      "source": [
        "***Changing TRIX Value***"
      ],
      "metadata": {
        "id": "9txhu8snyDjI"
      }
    },
    {
      "cell_type": "code",
      "source": [
        "for i in range(1,length-1):\n",
        "      if df.values[i,9]>0 :\n",
        "         df.values[i-1,9]=+1\n",
        "      else :\n",
        "         df.values[i-1,9]=-1"
      ],
      "metadata": {
        "id": "xL_Yl63hiO6u"
      },
      "execution_count": null,
      "outputs": []
    },
    {
      "cell_type": "markdown",
      "source": [
        "***Changing PPO Value***"
      ],
      "metadata": {
        "id": "FNyXABB8yMqq"
      }
    },
    {
      "cell_type": "code",
      "source": [
        "for i in range(1,length-1):\n",
        "      if df.values[i,10]>0 :\n",
        "         df.values[i-1,10]=+1\n",
        "      else :\n",
        "         df.values[i-1,10]=-1"
      ],
      "metadata": {
        "id": "d0vE4Of7kzMY"
      },
      "execution_count": null,
      "outputs": []
    },
    {
      "cell_type": "markdown",
      "source": [
        "***Changing DX Value***"
      ],
      "metadata": {
        "id": "vkF3fn6cyKoX"
      }
    },
    {
      "cell_type": "code",
      "source": [
        "for i in range(1,length-1):\n",
        "      if df.values[i,11]>0 :\n",
        "         df.values[i-1,11]=+1\n",
        "      else :\n",
        "         df.values[i-1,11]=-1"
      ],
      "metadata": {
        "id": "_AgKF0Dnk3F8"
      },
      "execution_count": null,
      "outputs": []
    },
    {
      "cell_type": "code",
      "source": [
        "df"
      ],
      "metadata": {
        "colab": {
          "base_uri": "https://localhost:8080/"
        },
        "id": "h_Dcudg42AJS",
        "outputId": "bcd5fc53-9e54-4cae-f179-ace19eb66f72"
      },
      "execution_count": null,
      "outputs": [
        {
          "output_type": "execute_result",
          "data": {
            "text/html": [
              "\n",
              "  <div id=\"df-6dfe4b3a-f74b-4b1a-ad8f-59e457c0ee2f\">\n",
              "    <div class=\"colab-df-container\">\n",
              "      <div>\n",
              "<style scoped>\n",
              "    .dataframe tbody tr th:only-of-type {\n",
              "        vertical-align: middle;\n",
              "    }\n",
              "\n",
              "    .dataframe tbody tr th {\n",
              "        vertical-align: top;\n",
              "    }\n",
              "\n",
              "    .dataframe thead th {\n",
              "        text-align: right;\n",
              "    }\n",
              "</style>\n",
              "<table border=\"1\" class=\"dataframe\">\n",
              "  <thead>\n",
              "    <tr style=\"text-align: right;\">\n",
              "      <th></th>\n",
              "      <th>SMA_20</th>\n",
              "      <th>MOM</th>\n",
              "      <th>RSI</th>\n",
              "      <th>WILLR</th>\n",
              "      <th>CCI</th>\n",
              "      <th>ADX</th>\n",
              "      <th>MACD</th>\n",
              "      <th>ULTOSC</th>\n",
              "      <th>EMA20</th>\n",
              "      <th>TRIX</th>\n",
              "      <th>PPO</th>\n",
              "      <th>DX</th>\n",
              "      <th>Close</th>\n",
              "    </tr>\n",
              "    <tr>\n",
              "      <th>Date</th>\n",
              "      <th></th>\n",
              "      <th></th>\n",
              "      <th></th>\n",
              "      <th></th>\n",
              "      <th></th>\n",
              "      <th></th>\n",
              "      <th></th>\n",
              "      <th></th>\n",
              "      <th></th>\n",
              "      <th></th>\n",
              "      <th></th>\n",
              "      <th></th>\n",
              "      <th></th>\n",
              "    </tr>\n",
              "  </thead>\n",
              "  <tbody>\n",
              "    <tr>\n",
              "      <th>2020-05-13</th>\n",
              "      <td>-1.000000</td>\n",
              "      <td>-1.000000</td>\n",
              "      <td>-1.000000</td>\n",
              "      <td>-1.000000</td>\n",
              "      <td>-1.000000</td>\n",
              "      <td>-1.000000</td>\n",
              "      <td>-1.000000</td>\n",
              "      <td>-1.000000</td>\n",
              "      <td>-1.000000</td>\n",
              "      <td>-1.000000</td>\n",
              "      <td>1.000000</td>\n",
              "      <td>1.000000</td>\n",
              "      <td>-1.000000</td>\n",
              "    </tr>\n",
              "    <tr>\n",
              "      <th>2020-05-14</th>\n",
              "      <td>-1.000000</td>\n",
              "      <td>-1.000000</td>\n",
              "      <td>-1.000000</td>\n",
              "      <td>-1.000000</td>\n",
              "      <td>-1.000000</td>\n",
              "      <td>-1.000000</td>\n",
              "      <td>-1.000000</td>\n",
              "      <td>-1.000000</td>\n",
              "      <td>-1.000000</td>\n",
              "      <td>-1.000000</td>\n",
              "      <td>1.000000</td>\n",
              "      <td>1.000000</td>\n",
              "      <td>-1.000000</td>\n",
              "    </tr>\n",
              "    <tr>\n",
              "      <th>2020-05-15</th>\n",
              "      <td>-1.000000</td>\n",
              "      <td>-1.000000</td>\n",
              "      <td>-1.000000</td>\n",
              "      <td>-1.000000</td>\n",
              "      <td>-1.000000</td>\n",
              "      <td>-1.000000</td>\n",
              "      <td>-1.000000</td>\n",
              "      <td>-1.000000</td>\n",
              "      <td>-1.000000</td>\n",
              "      <td>-1.000000</td>\n",
              "      <td>1.000000</td>\n",
              "      <td>1.000000</td>\n",
              "      <td>-1.000000</td>\n",
              "    </tr>\n",
              "    <tr>\n",
              "      <th>2020-05-18</th>\n",
              "      <td>-1.000000</td>\n",
              "      <td>-1.000000</td>\n",
              "      <td>1.000000</td>\n",
              "      <td>1.000000</td>\n",
              "      <td>1.000000</td>\n",
              "      <td>-1.000000</td>\n",
              "      <td>-1.000000</td>\n",
              "      <td>-1.000000</td>\n",
              "      <td>-1.000000</td>\n",
              "      <td>-1.000000</td>\n",
              "      <td>-1.000000</td>\n",
              "      <td>1.000000</td>\n",
              "      <td>1.000000</td>\n",
              "    </tr>\n",
              "    <tr>\n",
              "      <th>2020-05-19</th>\n",
              "      <td>-1.000000</td>\n",
              "      <td>-1.000000</td>\n",
              "      <td>1.000000</td>\n",
              "      <td>1.000000</td>\n",
              "      <td>1.000000</td>\n",
              "      <td>-1.000000</td>\n",
              "      <td>1.000000</td>\n",
              "      <td>1.000000</td>\n",
              "      <td>-1.000000</td>\n",
              "      <td>-1.000000</td>\n",
              "      <td>-1.000000</td>\n",
              "      <td>1.000000</td>\n",
              "      <td>1.000000</td>\n",
              "    </tr>\n",
              "    <tr>\n",
              "      <th>...</th>\n",
              "      <td>...</td>\n",
              "      <td>...</td>\n",
              "      <td>...</td>\n",
              "      <td>...</td>\n",
              "      <td>...</td>\n",
              "      <td>...</td>\n",
              "      <td>...</td>\n",
              "      <td>...</td>\n",
              "      <td>...</td>\n",
              "      <td>...</td>\n",
              "      <td>...</td>\n",
              "      <td>...</td>\n",
              "      <td>...</td>\n",
              "    </tr>\n",
              "    <tr>\n",
              "      <th>2021-12-24</th>\n",
              "      <td>1.000000</td>\n",
              "      <td>-1.000000</td>\n",
              "      <td>1.000000</td>\n",
              "      <td>1.000000</td>\n",
              "      <td>1.000000</td>\n",
              "      <td>1.000000</td>\n",
              "      <td>1.000000</td>\n",
              "      <td>1.000000</td>\n",
              "      <td>1.000000</td>\n",
              "      <td>-1.000000</td>\n",
              "      <td>-1.000000</td>\n",
              "      <td>1.000000</td>\n",
              "      <td>1.000000</td>\n",
              "    </tr>\n",
              "    <tr>\n",
              "      <th>2021-12-27</th>\n",
              "      <td>1.000000</td>\n",
              "      <td>-1.000000</td>\n",
              "      <td>1.000000</td>\n",
              "      <td>1.000000</td>\n",
              "      <td>1.000000</td>\n",
              "      <td>1.000000</td>\n",
              "      <td>1.000000</td>\n",
              "      <td>1.000000</td>\n",
              "      <td>1.000000</td>\n",
              "      <td>-1.000000</td>\n",
              "      <td>-1.000000</td>\n",
              "      <td>1.000000</td>\n",
              "      <td>1.000000</td>\n",
              "    </tr>\n",
              "    <tr>\n",
              "      <th>2021-12-28</th>\n",
              "      <td>1.000000</td>\n",
              "      <td>-1.000000</td>\n",
              "      <td>-1.000000</td>\n",
              "      <td>-1.000000</td>\n",
              "      <td>1.000000</td>\n",
              "      <td>1.000000</td>\n",
              "      <td>1.000000</td>\n",
              "      <td>1.000000</td>\n",
              "      <td>1.000000</td>\n",
              "      <td>-1.000000</td>\n",
              "      <td>-1.000000</td>\n",
              "      <td>1.000000</td>\n",
              "      <td>-1.000000</td>\n",
              "    </tr>\n",
              "    <tr>\n",
              "      <th>2021-12-29</th>\n",
              "      <td>17164.164844</td>\n",
              "      <td>-7.800781</td>\n",
              "      <td>-1.000000</td>\n",
              "      <td>-1.000000</td>\n",
              "      <td>1.000000</td>\n",
              "      <td>25.275399</td>\n",
              "      <td>1.000000</td>\n",
              "      <td>1.000000</td>\n",
              "      <td>17178.071565</td>\n",
              "      <td>-0.031695</td>\n",
              "      <td>-0.645909</td>\n",
              "      <td>19.112888</td>\n",
              "      <td>-1.000000</td>\n",
              "    </tr>\n",
              "    <tr>\n",
              "      <th>2021-12-30</th>\n",
              "      <td>17154.279785</td>\n",
              "      <td>-44.451172</td>\n",
              "      <td>49.004864</td>\n",
              "      <td>-35.430774</td>\n",
              "      <td>38.991028</td>\n",
              "      <td>24.941006</td>\n",
              "      <td>-99.747271</td>\n",
              "      <td>59.509486</td>\n",
              "      <td>17180.536103</td>\n",
              "      <td>-0.034819</td>\n",
              "      <td>-0.657634</td>\n",
              "      <td>20.593903</td>\n",
              "      <td>17203.949219</td>\n",
              "    </tr>\n",
              "  </tbody>\n",
              "</table>\n",
              "<p>409 rows × 13 columns</p>\n",
              "</div>\n",
              "      <button class=\"colab-df-convert\" onclick=\"convertToInteractive('df-6dfe4b3a-f74b-4b1a-ad8f-59e457c0ee2f')\"\n",
              "              title=\"Convert this dataframe to an interactive table.\"\n",
              "              style=\"display:none;\">\n",
              "        \n",
              "  <svg xmlns=\"http://www.w3.org/2000/svg\" height=\"24px\"viewBox=\"0 0 24 24\"\n",
              "       width=\"24px\">\n",
              "    <path d=\"M0 0h24v24H0V0z\" fill=\"none\"/>\n",
              "    <path d=\"M18.56 5.44l.94 2.06.94-2.06 2.06-.94-2.06-.94-.94-2.06-.94 2.06-2.06.94zm-11 1L8.5 8.5l.94-2.06 2.06-.94-2.06-.94L8.5 2.5l-.94 2.06-2.06.94zm10 10l.94 2.06.94-2.06 2.06-.94-2.06-.94-.94-2.06-.94 2.06-2.06.94z\"/><path d=\"M17.41 7.96l-1.37-1.37c-.4-.4-.92-.59-1.43-.59-.52 0-1.04.2-1.43.59L10.3 9.45l-7.72 7.72c-.78.78-.78 2.05 0 2.83L4 21.41c.39.39.9.59 1.41.59.51 0 1.02-.2 1.41-.59l7.78-7.78 2.81-2.81c.8-.78.8-2.07 0-2.86zM5.41 20L4 18.59l7.72-7.72 1.47 1.35L5.41 20z\"/>\n",
              "  </svg>\n",
              "      </button>\n",
              "      \n",
              "  <style>\n",
              "    .colab-df-container {\n",
              "      display:flex;\n",
              "      flex-wrap:wrap;\n",
              "      gap: 12px;\n",
              "    }\n",
              "\n",
              "    .colab-df-convert {\n",
              "      background-color: #E8F0FE;\n",
              "      border: none;\n",
              "      border-radius: 50%;\n",
              "      cursor: pointer;\n",
              "      display: none;\n",
              "      fill: #1967D2;\n",
              "      height: 32px;\n",
              "      padding: 0 0 0 0;\n",
              "      width: 32px;\n",
              "    }\n",
              "\n",
              "    .colab-df-convert:hover {\n",
              "      background-color: #E2EBFA;\n",
              "      box-shadow: 0px 1px 2px rgba(60, 64, 67, 0.3), 0px 1px 3px 1px rgba(60, 64, 67, 0.15);\n",
              "      fill: #174EA6;\n",
              "    }\n",
              "\n",
              "    [theme=dark] .colab-df-convert {\n",
              "      background-color: #3B4455;\n",
              "      fill: #D2E3FC;\n",
              "    }\n",
              "\n",
              "    [theme=dark] .colab-df-convert:hover {\n",
              "      background-color: #434B5C;\n",
              "      box-shadow: 0px 1px 3px 1px rgba(0, 0, 0, 0.15);\n",
              "      filter: drop-shadow(0px 1px 2px rgba(0, 0, 0, 0.3));\n",
              "      fill: #FFFFFF;\n",
              "    }\n",
              "  </style>\n",
              "\n",
              "      <script>\n",
              "        const buttonEl =\n",
              "          document.querySelector('#df-6dfe4b3a-f74b-4b1a-ad8f-59e457c0ee2f button.colab-df-convert');\n",
              "        buttonEl.style.display =\n",
              "          google.colab.kernel.accessAllowed ? 'block' : 'none';\n",
              "\n",
              "        async function convertToInteractive(key) {\n",
              "          const element = document.querySelector('#df-6dfe4b3a-f74b-4b1a-ad8f-59e457c0ee2f');\n",
              "          const dataTable =\n",
              "            await google.colab.kernel.invokeFunction('convertToInteractive',\n",
              "                                                     [key], {});\n",
              "          if (!dataTable) return;\n",
              "\n",
              "          const docLinkHtml = 'Like what you see? Visit the ' +\n",
              "            '<a target=\"_blank\" href=https://colab.research.google.com/notebooks/data_table.ipynb>data table notebook</a>'\n",
              "            + ' to learn more about interactive tables.';\n",
              "          element.innerHTML = '';\n",
              "          dataTable['output_type'] = 'display_data';\n",
              "          await google.colab.output.renderOutput(dataTable, element);\n",
              "          const docLink = document.createElement('div');\n",
              "          docLink.innerHTML = docLinkHtml;\n",
              "          element.appendChild(docLink);\n",
              "        }\n",
              "      </script>\n",
              "    </div>\n",
              "  </div>\n",
              "  "
            ],
            "text/plain": [
              "                  SMA_20        MOM        RSI      WILLR        CCI  \\\n",
              "Date                                                                   \n",
              "2020-05-13     -1.000000  -1.000000  -1.000000  -1.000000  -1.000000   \n",
              "2020-05-14     -1.000000  -1.000000  -1.000000  -1.000000  -1.000000   \n",
              "2020-05-15     -1.000000  -1.000000  -1.000000  -1.000000  -1.000000   \n",
              "2020-05-18     -1.000000  -1.000000   1.000000   1.000000   1.000000   \n",
              "2020-05-19     -1.000000  -1.000000   1.000000   1.000000   1.000000   \n",
              "...                  ...        ...        ...        ...        ...   \n",
              "2021-12-24      1.000000  -1.000000   1.000000   1.000000   1.000000   \n",
              "2021-12-27      1.000000  -1.000000   1.000000   1.000000   1.000000   \n",
              "2021-12-28      1.000000  -1.000000  -1.000000  -1.000000   1.000000   \n",
              "2021-12-29  17164.164844  -7.800781  -1.000000  -1.000000   1.000000   \n",
              "2021-12-30  17154.279785 -44.451172  49.004864 -35.430774  38.991028   \n",
              "\n",
              "                  ADX       MACD     ULTOSC         EMA20      TRIX       PPO  \\\n",
              "Date                                                                            \n",
              "2020-05-13  -1.000000  -1.000000  -1.000000     -1.000000 -1.000000  1.000000   \n",
              "2020-05-14  -1.000000  -1.000000  -1.000000     -1.000000 -1.000000  1.000000   \n",
              "2020-05-15  -1.000000  -1.000000  -1.000000     -1.000000 -1.000000  1.000000   \n",
              "2020-05-18  -1.000000  -1.000000  -1.000000     -1.000000 -1.000000 -1.000000   \n",
              "2020-05-19  -1.000000   1.000000   1.000000     -1.000000 -1.000000 -1.000000   \n",
              "...               ...        ...        ...           ...       ...       ...   \n",
              "2021-12-24   1.000000   1.000000   1.000000      1.000000 -1.000000 -1.000000   \n",
              "2021-12-27   1.000000   1.000000   1.000000      1.000000 -1.000000 -1.000000   \n",
              "2021-12-28   1.000000   1.000000   1.000000      1.000000 -1.000000 -1.000000   \n",
              "2021-12-29  25.275399   1.000000   1.000000  17178.071565 -0.031695 -0.645909   \n",
              "2021-12-30  24.941006 -99.747271  59.509486  17180.536103 -0.034819 -0.657634   \n",
              "\n",
              "                   DX         Close  \n",
              "Date                                 \n",
              "2020-05-13   1.000000     -1.000000  \n",
              "2020-05-14   1.000000     -1.000000  \n",
              "2020-05-15   1.000000     -1.000000  \n",
              "2020-05-18   1.000000      1.000000  \n",
              "2020-05-19   1.000000      1.000000  \n",
              "...               ...           ...  \n",
              "2021-12-24   1.000000      1.000000  \n",
              "2021-12-27   1.000000      1.000000  \n",
              "2021-12-28   1.000000     -1.000000  \n",
              "2021-12-29  19.112888     -1.000000  \n",
              "2021-12-30  20.593903  17203.949219  \n",
              "\n",
              "[409 rows x 13 columns]"
            ]
          },
          "metadata": {},
          "execution_count": 157
        }
      ]
    },
    {
      "cell_type": "code",
      "source": [
        "df=df[:407]"
      ],
      "metadata": {
        "id": "V0n7SlUQ2DrX"
      },
      "execution_count": null,
      "outputs": []
    },
    {
      "cell_type": "code",
      "source": [
        "df"
      ],
      "metadata": {
        "colab": {
          "base_uri": "https://localhost:8080/"
        },
        "id": "iEMQRz6o2JS6",
        "outputId": "a48a6988-bb4f-4f14-ec7b-0d6370b9a3c7"
      },
      "execution_count": null,
      "outputs": [
        {
          "output_type": "execute_result",
          "data": {
            "text/html": [
              "\n",
              "  <div id=\"df-f497568d-7e52-4a69-91ab-87bb3f7e1f79\">\n",
              "    <div class=\"colab-df-container\">\n",
              "      <div>\n",
              "<style scoped>\n",
              "    .dataframe tbody tr th:only-of-type {\n",
              "        vertical-align: middle;\n",
              "    }\n",
              "\n",
              "    .dataframe tbody tr th {\n",
              "        vertical-align: top;\n",
              "    }\n",
              "\n",
              "    .dataframe thead th {\n",
              "        text-align: right;\n",
              "    }\n",
              "</style>\n",
              "<table border=\"1\" class=\"dataframe\">\n",
              "  <thead>\n",
              "    <tr style=\"text-align: right;\">\n",
              "      <th></th>\n",
              "      <th>SMA_20</th>\n",
              "      <th>MOM</th>\n",
              "      <th>RSI</th>\n",
              "      <th>WILLR</th>\n",
              "      <th>CCI</th>\n",
              "      <th>ADX</th>\n",
              "      <th>MACD</th>\n",
              "      <th>ULTOSC</th>\n",
              "      <th>EMA20</th>\n",
              "      <th>TRIX</th>\n",
              "      <th>PPO</th>\n",
              "      <th>DX</th>\n",
              "      <th>Close</th>\n",
              "    </tr>\n",
              "    <tr>\n",
              "      <th>Date</th>\n",
              "      <th></th>\n",
              "      <th></th>\n",
              "      <th></th>\n",
              "      <th></th>\n",
              "      <th></th>\n",
              "      <th></th>\n",
              "      <th></th>\n",
              "      <th></th>\n",
              "      <th></th>\n",
              "      <th></th>\n",
              "      <th></th>\n",
              "      <th></th>\n",
              "      <th></th>\n",
              "    </tr>\n",
              "  </thead>\n",
              "  <tbody>\n",
              "    <tr>\n",
              "      <th>2020-05-13</th>\n",
              "      <td>-1.0</td>\n",
              "      <td>-1.0</td>\n",
              "      <td>-1.0</td>\n",
              "      <td>-1.0</td>\n",
              "      <td>-1.0</td>\n",
              "      <td>-1.0</td>\n",
              "      <td>-1.0</td>\n",
              "      <td>-1.0</td>\n",
              "      <td>-1.0</td>\n",
              "      <td>-1.0</td>\n",
              "      <td>1.0</td>\n",
              "      <td>1.0</td>\n",
              "      <td>-1.0</td>\n",
              "    </tr>\n",
              "    <tr>\n",
              "      <th>2020-05-14</th>\n",
              "      <td>-1.0</td>\n",
              "      <td>-1.0</td>\n",
              "      <td>-1.0</td>\n",
              "      <td>-1.0</td>\n",
              "      <td>-1.0</td>\n",
              "      <td>-1.0</td>\n",
              "      <td>-1.0</td>\n",
              "      <td>-1.0</td>\n",
              "      <td>-1.0</td>\n",
              "      <td>-1.0</td>\n",
              "      <td>1.0</td>\n",
              "      <td>1.0</td>\n",
              "      <td>-1.0</td>\n",
              "    </tr>\n",
              "    <tr>\n",
              "      <th>2020-05-15</th>\n",
              "      <td>-1.0</td>\n",
              "      <td>-1.0</td>\n",
              "      <td>-1.0</td>\n",
              "      <td>-1.0</td>\n",
              "      <td>-1.0</td>\n",
              "      <td>-1.0</td>\n",
              "      <td>-1.0</td>\n",
              "      <td>-1.0</td>\n",
              "      <td>-1.0</td>\n",
              "      <td>-1.0</td>\n",
              "      <td>1.0</td>\n",
              "      <td>1.0</td>\n",
              "      <td>-1.0</td>\n",
              "    </tr>\n",
              "    <tr>\n",
              "      <th>2020-05-18</th>\n",
              "      <td>-1.0</td>\n",
              "      <td>-1.0</td>\n",
              "      <td>1.0</td>\n",
              "      <td>1.0</td>\n",
              "      <td>1.0</td>\n",
              "      <td>-1.0</td>\n",
              "      <td>-1.0</td>\n",
              "      <td>-1.0</td>\n",
              "      <td>-1.0</td>\n",
              "      <td>-1.0</td>\n",
              "      <td>-1.0</td>\n",
              "      <td>1.0</td>\n",
              "      <td>1.0</td>\n",
              "    </tr>\n",
              "    <tr>\n",
              "      <th>2020-05-19</th>\n",
              "      <td>-1.0</td>\n",
              "      <td>-1.0</td>\n",
              "      <td>1.0</td>\n",
              "      <td>1.0</td>\n",
              "      <td>1.0</td>\n",
              "      <td>-1.0</td>\n",
              "      <td>1.0</td>\n",
              "      <td>1.0</td>\n",
              "      <td>-1.0</td>\n",
              "      <td>-1.0</td>\n",
              "      <td>-1.0</td>\n",
              "      <td>1.0</td>\n",
              "      <td>1.0</td>\n",
              "    </tr>\n",
              "    <tr>\n",
              "      <th>...</th>\n",
              "      <td>...</td>\n",
              "      <td>...</td>\n",
              "      <td>...</td>\n",
              "      <td>...</td>\n",
              "      <td>...</td>\n",
              "      <td>...</td>\n",
              "      <td>...</td>\n",
              "      <td>...</td>\n",
              "      <td>...</td>\n",
              "      <td>...</td>\n",
              "      <td>...</td>\n",
              "      <td>...</td>\n",
              "      <td>...</td>\n",
              "    </tr>\n",
              "    <tr>\n",
              "      <th>2021-12-22</th>\n",
              "      <td>1.0</td>\n",
              "      <td>-1.0</td>\n",
              "      <td>1.0</td>\n",
              "      <td>1.0</td>\n",
              "      <td>1.0</td>\n",
              "      <td>1.0</td>\n",
              "      <td>1.0</td>\n",
              "      <td>1.0</td>\n",
              "      <td>1.0</td>\n",
              "      <td>-1.0</td>\n",
              "      <td>-1.0</td>\n",
              "      <td>1.0</td>\n",
              "      <td>1.0</td>\n",
              "    </tr>\n",
              "    <tr>\n",
              "      <th>2021-12-23</th>\n",
              "      <td>1.0</td>\n",
              "      <td>-1.0</td>\n",
              "      <td>-1.0</td>\n",
              "      <td>-1.0</td>\n",
              "      <td>-1.0</td>\n",
              "      <td>1.0</td>\n",
              "      <td>1.0</td>\n",
              "      <td>1.0</td>\n",
              "      <td>1.0</td>\n",
              "      <td>-1.0</td>\n",
              "      <td>-1.0</td>\n",
              "      <td>1.0</td>\n",
              "      <td>-1.0</td>\n",
              "    </tr>\n",
              "    <tr>\n",
              "      <th>2021-12-24</th>\n",
              "      <td>1.0</td>\n",
              "      <td>-1.0</td>\n",
              "      <td>1.0</td>\n",
              "      <td>1.0</td>\n",
              "      <td>1.0</td>\n",
              "      <td>1.0</td>\n",
              "      <td>1.0</td>\n",
              "      <td>1.0</td>\n",
              "      <td>1.0</td>\n",
              "      <td>-1.0</td>\n",
              "      <td>-1.0</td>\n",
              "      <td>1.0</td>\n",
              "      <td>1.0</td>\n",
              "    </tr>\n",
              "    <tr>\n",
              "      <th>2021-12-27</th>\n",
              "      <td>1.0</td>\n",
              "      <td>-1.0</td>\n",
              "      <td>1.0</td>\n",
              "      <td>1.0</td>\n",
              "      <td>1.0</td>\n",
              "      <td>1.0</td>\n",
              "      <td>1.0</td>\n",
              "      <td>1.0</td>\n",
              "      <td>1.0</td>\n",
              "      <td>-1.0</td>\n",
              "      <td>-1.0</td>\n",
              "      <td>1.0</td>\n",
              "      <td>1.0</td>\n",
              "    </tr>\n",
              "    <tr>\n",
              "      <th>2021-12-28</th>\n",
              "      <td>1.0</td>\n",
              "      <td>-1.0</td>\n",
              "      <td>-1.0</td>\n",
              "      <td>-1.0</td>\n",
              "      <td>1.0</td>\n",
              "      <td>1.0</td>\n",
              "      <td>1.0</td>\n",
              "      <td>1.0</td>\n",
              "      <td>1.0</td>\n",
              "      <td>-1.0</td>\n",
              "      <td>-1.0</td>\n",
              "      <td>1.0</td>\n",
              "      <td>-1.0</td>\n",
              "    </tr>\n",
              "  </tbody>\n",
              "</table>\n",
              "<p>407 rows × 13 columns</p>\n",
              "</div>\n",
              "      <button class=\"colab-df-convert\" onclick=\"convertToInteractive('df-f497568d-7e52-4a69-91ab-87bb3f7e1f79')\"\n",
              "              title=\"Convert this dataframe to an interactive table.\"\n",
              "              style=\"display:none;\">\n",
              "        \n",
              "  <svg xmlns=\"http://www.w3.org/2000/svg\" height=\"24px\"viewBox=\"0 0 24 24\"\n",
              "       width=\"24px\">\n",
              "    <path d=\"M0 0h24v24H0V0z\" fill=\"none\"/>\n",
              "    <path d=\"M18.56 5.44l.94 2.06.94-2.06 2.06-.94-2.06-.94-.94-2.06-.94 2.06-2.06.94zm-11 1L8.5 8.5l.94-2.06 2.06-.94-2.06-.94L8.5 2.5l-.94 2.06-2.06.94zm10 10l.94 2.06.94-2.06 2.06-.94-2.06-.94-.94-2.06-.94 2.06-2.06.94z\"/><path d=\"M17.41 7.96l-1.37-1.37c-.4-.4-.92-.59-1.43-.59-.52 0-1.04.2-1.43.59L10.3 9.45l-7.72 7.72c-.78.78-.78 2.05 0 2.83L4 21.41c.39.39.9.59 1.41.59.51 0 1.02-.2 1.41-.59l7.78-7.78 2.81-2.81c.8-.78.8-2.07 0-2.86zM5.41 20L4 18.59l7.72-7.72 1.47 1.35L5.41 20z\"/>\n",
              "  </svg>\n",
              "      </button>\n",
              "      \n",
              "  <style>\n",
              "    .colab-df-container {\n",
              "      display:flex;\n",
              "      flex-wrap:wrap;\n",
              "      gap: 12px;\n",
              "    }\n",
              "\n",
              "    .colab-df-convert {\n",
              "      background-color: #E8F0FE;\n",
              "      border: none;\n",
              "      border-radius: 50%;\n",
              "      cursor: pointer;\n",
              "      display: none;\n",
              "      fill: #1967D2;\n",
              "      height: 32px;\n",
              "      padding: 0 0 0 0;\n",
              "      width: 32px;\n",
              "    }\n",
              "\n",
              "    .colab-df-convert:hover {\n",
              "      background-color: #E2EBFA;\n",
              "      box-shadow: 0px 1px 2px rgba(60, 64, 67, 0.3), 0px 1px 3px 1px rgba(60, 64, 67, 0.15);\n",
              "      fill: #174EA6;\n",
              "    }\n",
              "\n",
              "    [theme=dark] .colab-df-convert {\n",
              "      background-color: #3B4455;\n",
              "      fill: #D2E3FC;\n",
              "    }\n",
              "\n",
              "    [theme=dark] .colab-df-convert:hover {\n",
              "      background-color: #434B5C;\n",
              "      box-shadow: 0px 1px 3px 1px rgba(0, 0, 0, 0.15);\n",
              "      filter: drop-shadow(0px 1px 2px rgba(0, 0, 0, 0.3));\n",
              "      fill: #FFFFFF;\n",
              "    }\n",
              "  </style>\n",
              "\n",
              "      <script>\n",
              "        const buttonEl =\n",
              "          document.querySelector('#df-f497568d-7e52-4a69-91ab-87bb3f7e1f79 button.colab-df-convert');\n",
              "        buttonEl.style.display =\n",
              "          google.colab.kernel.accessAllowed ? 'block' : 'none';\n",
              "\n",
              "        async function convertToInteractive(key) {\n",
              "          const element = document.querySelector('#df-f497568d-7e52-4a69-91ab-87bb3f7e1f79');\n",
              "          const dataTable =\n",
              "            await google.colab.kernel.invokeFunction('convertToInteractive',\n",
              "                                                     [key], {});\n",
              "          if (!dataTable) return;\n",
              "\n",
              "          const docLinkHtml = 'Like what you see? Visit the ' +\n",
              "            '<a target=\"_blank\" href=https://colab.research.google.com/notebooks/data_table.ipynb>data table notebook</a>'\n",
              "            + ' to learn more about interactive tables.';\n",
              "          element.innerHTML = '';\n",
              "          dataTable['output_type'] = 'display_data';\n",
              "          await google.colab.output.renderOutput(dataTable, element);\n",
              "          const docLink = document.createElement('div');\n",
              "          docLink.innerHTML = docLinkHtml;\n",
              "          element.appendChild(docLink);\n",
              "        }\n",
              "      </script>\n",
              "    </div>\n",
              "  </div>\n",
              "  "
            ],
            "text/plain": [
              "            SMA_20  MOM  RSI  WILLR  CCI  ADX  MACD  ULTOSC  EMA20  TRIX  PPO  \\\n",
              "Date                                                                            \n",
              "2020-05-13    -1.0 -1.0 -1.0   -1.0 -1.0 -1.0  -1.0    -1.0   -1.0  -1.0  1.0   \n",
              "2020-05-14    -1.0 -1.0 -1.0   -1.0 -1.0 -1.0  -1.0    -1.0   -1.0  -1.0  1.0   \n",
              "2020-05-15    -1.0 -1.0 -1.0   -1.0 -1.0 -1.0  -1.0    -1.0   -1.0  -1.0  1.0   \n",
              "2020-05-18    -1.0 -1.0  1.0    1.0  1.0 -1.0  -1.0    -1.0   -1.0  -1.0 -1.0   \n",
              "2020-05-19    -1.0 -1.0  1.0    1.0  1.0 -1.0   1.0     1.0   -1.0  -1.0 -1.0   \n",
              "...            ...  ...  ...    ...  ...  ...   ...     ...    ...   ...  ...   \n",
              "2021-12-22     1.0 -1.0  1.0    1.0  1.0  1.0   1.0     1.0    1.0  -1.0 -1.0   \n",
              "2021-12-23     1.0 -1.0 -1.0   -1.0 -1.0  1.0   1.0     1.0    1.0  -1.0 -1.0   \n",
              "2021-12-24     1.0 -1.0  1.0    1.0  1.0  1.0   1.0     1.0    1.0  -1.0 -1.0   \n",
              "2021-12-27     1.0 -1.0  1.0    1.0  1.0  1.0   1.0     1.0    1.0  -1.0 -1.0   \n",
              "2021-12-28     1.0 -1.0 -1.0   -1.0  1.0  1.0   1.0     1.0    1.0  -1.0 -1.0   \n",
              "\n",
              "             DX  Close  \n",
              "Date                    \n",
              "2020-05-13  1.0   -1.0  \n",
              "2020-05-14  1.0   -1.0  \n",
              "2020-05-15  1.0   -1.0  \n",
              "2020-05-18  1.0    1.0  \n",
              "2020-05-19  1.0    1.0  \n",
              "...         ...    ...  \n",
              "2021-12-22  1.0    1.0  \n",
              "2021-12-23  1.0   -1.0  \n",
              "2021-12-24  1.0    1.0  \n",
              "2021-12-27  1.0    1.0  \n",
              "2021-12-28  1.0   -1.0  \n",
              "\n",
              "[407 rows x 13 columns]"
            ]
          },
          "metadata": {},
          "execution_count": 159
        }
      ]
    },
    {
      "cell_type": "markdown",
      "source": [
        "# **Splitting Into Training and Testing Dataset**"
      ],
      "metadata": {
        "id": "hM4-EBnn3JJd"
      }
    },
    {
      "cell_type": "code",
      "source": [
        "features=['SMA_20','MOM','RSI','WILLR','CCI','ADX','MACD','ULTOSC','EMA20','TRIX','PPO','DX']\n",
        "x=df[features]\n",
        "y=df.Close"
      ],
      "metadata": {
        "id": "GUPfQSCy3OZP"
      },
      "execution_count": null,
      "outputs": []
    },
    {
      "cell_type": "code",
      "source": [
        "from sklearn.model_selection import train_test_split\n",
        "X_train,X_test,y_train,y_test=train_test_split(x,y,test_size=0.25,random_state=0)"
      ],
      "metadata": {
        "id": "vq_W5d0K3Y25"
      },
      "execution_count": null,
      "outputs": []
    },
    {
      "cell_type": "markdown",
      "source": [
        "# **Machine Learning Models**"
      ],
      "metadata": {
        "id": "vGsik1eU3oac"
      }
    },
    {
      "cell_type": "markdown",
      "source": [
        "## ***Logistic Regression***"
      ],
      "metadata": {
        "id": "KF60ST-u3syg"
      }
    },
    {
      "cell_type": "code",
      "source": [
        "# Fitting Logistic Regression to the Training set\n",
        "from sklearn.linear_model import LogisticRegression\n",
        "classifier = LogisticRegression(random_state = 0)\n",
        "classifier.fit(X_train, y_train)"
      ],
      "metadata": {
        "colab": {
          "base_uri": "https://localhost:8080/"
        },
        "id": "4SpBr_8s3xqF",
        "outputId": "685b4447-2c79-402b-9335-99fd98ce2ede"
      },
      "execution_count": null,
      "outputs": [
        {
          "output_type": "execute_result",
          "data": {
            "text/plain": [
              "LogisticRegression(random_state=0)"
            ]
          },
          "metadata": {},
          "execution_count": 162
        }
      ]
    },
    {
      "cell_type": "code",
      "source": [
        "# Predicting the Test set results\n",
        "y_pred1 = classifier.predict(X_test)"
      ],
      "metadata": {
        "id": "PyxLDLiv32Zk"
      },
      "execution_count": null,
      "outputs": []
    },
    {
      "cell_type": "code",
      "source": [
        "from sklearn import metrics\n",
        "print(\"Accuracy:\",metrics.accuracy_score(y_test, y_pred1))\n",
        "print(\"Precision:\",metrics.precision_score(y_test, y_pred1))\n",
        "print(\"Recall:\",metrics.recall_score(y_test, y_pred1))"
      ],
      "metadata": {
        "colab": {
          "base_uri": "https://localhost:8080/"
        },
        "id": "nsvI-aV133t7",
        "outputId": "5122fa1d-8c24-4153-da09-da5884f95104"
      },
      "execution_count": null,
      "outputs": [
        {
          "output_type": "stream",
          "name": "stdout",
          "text": [
            "Accuracy: 0.9509803921568627\n",
            "Precision: 1.0\n",
            "Recall: 0.9137931034482759\n"
          ]
        }
      ]
    },
    {
      "cell_type": "markdown",
      "source": [
        "## ***KNN***"
      ],
      "metadata": {
        "id": "ssnfFcjh4we0"
      }
    },
    {
      "cell_type": "code",
      "source": [
        "from sklearn.neighbors import KNeighborsClassifier  \n",
        "classifier= KNeighborsClassifier(n_neighbors=5, metric='minkowski', p=2 )  \n",
        "classifier.fit(X_train, y_train)"
      ],
      "metadata": {
        "colab": {
          "base_uri": "https://localhost:8080/"
        },
        "id": "TpnlKBJH40If",
        "outputId": "b224a871-5f45-4f42-be14-c8894ce4e229"
      },
      "execution_count": null,
      "outputs": [
        {
          "output_type": "execute_result",
          "data": {
            "text/plain": [
              "KNeighborsClassifier()"
            ]
          },
          "metadata": {},
          "execution_count": 165
        }
      ]
    },
    {
      "cell_type": "code",
      "source": [
        "y_pred2= classifier.predict(X_test)  "
      ],
      "metadata": {
        "id": "r9FJd-j446Rs"
      },
      "execution_count": null,
      "outputs": []
    },
    {
      "cell_type": "code",
      "source": [
        "from sklearn import metrics\n",
        "print(\"Accuracy:\",metrics.accuracy_score(y_test, y_pred2))\n",
        "print(\"Precision:\",metrics.precision_score(y_test, y_pred2))\n",
        "print(\"Recall:\",metrics.recall_score(y_test, y_pred2))"
      ],
      "metadata": {
        "id": "7CLNlmUW49sc",
        "outputId": "7f3cc4c3-38dd-48d9-a621-579c58eeda45",
        "colab": {
          "base_uri": "https://localhost:8080/"
        }
      },
      "execution_count": null,
      "outputs": [
        {
          "output_type": "stream",
          "name": "stdout",
          "text": [
            "Accuracy: 0.8921568627450981\n",
            "Precision: 0.9607843137254902\n",
            "Recall: 0.8448275862068966\n"
          ]
        }
      ]
    },
    {
      "cell_type": "markdown",
      "source": [
        "## ***Decision Tree Classifier***"
      ],
      "metadata": {
        "id": "It_dxnBi2gTg"
      }
    },
    {
      "cell_type": "code",
      "source": [
        "from sklearn.tree import DecisionTreeClassifier\n",
        "clf = DecisionTreeClassifier(random_state=0)\n",
        "clf.fit(X_train,y_train)"
      ],
      "metadata": {
        "colab": {
          "base_uri": "https://localhost:8080/"
        },
        "id": "03C9QToD2uUr",
        "outputId": "eef32483-1687-404d-8c41-45f651ef8216"
      },
      "execution_count": null,
      "outputs": [
        {
          "output_type": "execute_result",
          "data": {
            "text/plain": [
              "DecisionTreeClassifier(random_state=0)"
            ]
          },
          "metadata": {},
          "execution_count": 168
        }
      ]
    },
    {
      "cell_type": "code",
      "source": [
        "y_pred3= clf.predict(X_test)  "
      ],
      "metadata": {
        "id": "D_JOVcCd24qY"
      },
      "execution_count": null,
      "outputs": []
    },
    {
      "cell_type": "code",
      "source": [
        "from sklearn import metrics\n",
        "print(\"Accuracy:\",metrics.accuracy_score(y_test, y_pred3))\n",
        "print(\"Precision:\",metrics.precision_score(y_test, y_pred3))\n",
        "print(\"Recall:\",metrics.recall_score(y_test, y_pred3))"
      ],
      "metadata": {
        "colab": {
          "base_uri": "https://localhost:8080/"
        },
        "id": "tCcmXLLf28p-",
        "outputId": "7c78dcd9-0fc1-47c0-fb65-ca332145e237"
      },
      "execution_count": null,
      "outputs": [
        {
          "output_type": "stream",
          "name": "stdout",
          "text": [
            "Accuracy: 0.9411764705882353\n",
            "Precision: 0.9814814814814815\n",
            "Recall: 0.9137931034482759\n"
          ]
        }
      ]
    },
    {
      "cell_type": "markdown",
      "source": [
        "## ***Random Forest Classifier***"
      ],
      "metadata": {
        "id": "e7NqbBIA3v8Y"
      }
    },
    {
      "cell_type": "code",
      "source": [
        "from sklearn.ensemble import RandomForestClassifier\n",
        "rf = RandomForestClassifier(max_depth=2, random_state=0)\n",
        "rf.fit(X_train,y_train)"
      ],
      "metadata": {
        "colab": {
          "base_uri": "https://localhost:8080/"
        },
        "id": "2NL8x0a231wV",
        "outputId": "54a84cda-fbb0-41e0-9ffc-211ba8ce854b"
      },
      "execution_count": null,
      "outputs": [
        {
          "output_type": "execute_result",
          "data": {
            "text/plain": [
              "RandomForestClassifier(max_depth=2, random_state=0)"
            ]
          },
          "metadata": {},
          "execution_count": 171
        }
      ]
    },
    {
      "cell_type": "code",
      "source": [
        "y_pred4= rf.predict(X_test)  "
      ],
      "metadata": {
        "id": "ViY9LGQV3_RF"
      },
      "execution_count": null,
      "outputs": []
    },
    {
      "cell_type": "code",
      "source": [
        "from sklearn import metrics\n",
        "print(\"Accuracy:\",metrics.accuracy_score(y_test, y_pred4))\n",
        "print(\"Precision:\",metrics.precision_score(y_test, y_pred4))\n",
        "print(\"Recall:\",metrics.recall_score(y_test, y_pred4))"
      ],
      "metadata": {
        "colab": {
          "base_uri": "https://localhost:8080/"
        },
        "id": "mebWee6Y4FGl",
        "outputId": "f8299b6b-a365-4208-e80c-6fb36220f5eb"
      },
      "execution_count": null,
      "outputs": [
        {
          "output_type": "stream",
          "name": "stdout",
          "text": [
            "Accuracy: 0.9019607843137255\n",
            "Precision: 0.9285714285714286\n",
            "Recall: 0.896551724137931\n"
          ]
        }
      ]
    },
    {
      "cell_type": "markdown",
      "source": [
        "## ***SVC***"
      ],
      "metadata": {
        "id": "7UfnIbU-41-D"
      }
    },
    {
      "cell_type": "code",
      "source": [
        "from sklearn.svm import SVC\n",
        "from sklearn.pipeline import make_pipeline\n",
        "from sklearn.preprocessing import StandardScaler\n",
        "sv = make_pipeline(StandardScaler(), SVC(gamma='auto'))\n",
        "sv.fit(X_train,y_train)"
      ],
      "metadata": {
        "colab": {
          "base_uri": "https://localhost:8080/"
        },
        "id": "5pvvqPLg5EgE",
        "outputId": "1e78a40a-0e84-4c31-bee0-0b1eae34e381"
      },
      "execution_count": null,
      "outputs": [
        {
          "output_type": "execute_result",
          "data": {
            "text/plain": [
              "Pipeline(steps=[('standardscaler', StandardScaler()),\n",
              "                ('svc', SVC(gamma='auto'))])"
            ]
          },
          "metadata": {},
          "execution_count": 174
        }
      ]
    },
    {
      "cell_type": "code",
      "source": [
        "y_pred5= sv.predict(X_test)  "
      ],
      "metadata": {
        "id": "Lh5Vx93s5VHn"
      },
      "execution_count": null,
      "outputs": []
    },
    {
      "cell_type": "code",
      "source": [
        "from sklearn import metrics\n",
        "print(\"Accuracy:\",metrics.accuracy_score(y_test, y_pred5))\n",
        "print(\"Precision:\",metrics.precision_score(y_test, y_pred5))\n",
        "print(\"Recall:\",metrics.recall_score(y_test, y_pred5))"
      ],
      "metadata": {
        "colab": {
          "base_uri": "https://localhost:8080/"
        },
        "id": "V8xcApm35czD",
        "outputId": "e23174f4-5389-4263-fe18-f4099dfa7160"
      },
      "execution_count": null,
      "outputs": [
        {
          "output_type": "stream",
          "name": "stdout",
          "text": [
            "Accuracy: 0.9117647058823529\n",
            "Precision: 0.9298245614035088\n",
            "Recall: 0.9137931034482759\n"
          ]
        }
      ]
    },
    {
      "cell_type": "markdown",
      "source": [
        "## ***Naive Bayes***"
      ],
      "metadata": {
        "id": "enn_3o105unZ"
      }
    },
    {
      "cell_type": "code",
      "source": [
        "from sklearn.naive_bayes import GaussianNB\n",
        "gnb = GaussianNB()\n",
        "gnb.fit(X_train,y_train)"
      ],
      "metadata": {
        "colab": {
          "base_uri": "https://localhost:8080/"
        },
        "id": "W6aS5rQA5zhr",
        "outputId": "07319219-ca62-43fa-9490-1632e9f40dc7"
      },
      "execution_count": null,
      "outputs": [
        {
          "output_type": "execute_result",
          "data": {
            "text/plain": [
              "GaussianNB()"
            ]
          },
          "metadata": {},
          "execution_count": 177
        }
      ]
    },
    {
      "cell_type": "code",
      "source": [
        "y_pred6= gnb.predict(X_test)  "
      ],
      "metadata": {
        "id": "cgELyPUo58Lt"
      },
      "execution_count": null,
      "outputs": []
    },
    {
      "cell_type": "code",
      "source": [
        "from sklearn import metrics\n",
        "print(\"Accuracy:\",metrics.accuracy_score(y_test, y_pred6))\n",
        "print(\"Precision:\",metrics.precision_score(y_test, y_pred6))\n",
        "print(\"Recall:\",metrics.recall_score(y_test, y_pred6))"
      ],
      "metadata": {
        "colab": {
          "base_uri": "https://localhost:8080/"
        },
        "id": "2HLOUB6Q6C-t",
        "outputId": "352fa8ea-5a63-438e-e6ce-8b87d5a1e9a9"
      },
      "execution_count": null,
      "outputs": [
        {
          "output_type": "stream",
          "name": "stdout",
          "text": [
            "Accuracy: 0.9117647058823529\n",
            "Precision: 1.0\n",
            "Recall: 0.8448275862068966\n"
          ]
        }
      ]
    },
    {
      "cell_type": "markdown",
      "source": [
        "## ***MLP CLASSIFIER***"
      ],
      "metadata": {
        "id": "NXz9HL4_OSPt"
      }
    },
    {
      "cell_type": "code",
      "source": [
        "from sklearn.neural_network import MLPClassifier\n",
        "m = MLPClassifier(random_state=1, max_iter=300)\n",
        "m.fit(X_train,y_train)"
      ],
      "metadata": {
        "colab": {
          "base_uri": "https://localhost:8080/"
        },
        "id": "6mPoVHYfOWbp",
        "outputId": "f4a77533-0aae-4628-c752-bfa0a96e522a"
      },
      "execution_count": null,
      "outputs": [
        {
          "output_type": "stream",
          "name": "stderr",
          "text": [
            "/usr/local/lib/python3.7/dist-packages/sklearn/neural_network/_multilayer_perceptron.py:696: ConvergenceWarning: Stochastic Optimizer: Maximum iterations (300) reached and the optimization hasn't converged yet.\n",
            "  ConvergenceWarning,\n"
          ]
        },
        {
          "output_type": "execute_result",
          "data": {
            "text/plain": [
              "MLPClassifier(max_iter=300, random_state=1)"
            ]
          },
          "metadata": {},
          "execution_count": 183
        }
      ]
    },
    {
      "cell_type": "code",
      "source": [
        "y_pred7= m.predict(X_test)  "
      ],
      "metadata": {
        "id": "y4NKWjnnOiyR"
      },
      "execution_count": null,
      "outputs": []
    },
    {
      "cell_type": "code",
      "source": [
        "from sklearn import metrics\n",
        "print(\"Accuracy:\",metrics.accuracy_score(y_test, y_pred7))\n",
        "print(\"Precision:\",metrics.precision_score(y_test, y_pred7))\n",
        "print(\"Recall:\",metrics.recall_score(y_test, y_pred7))"
      ],
      "metadata": {
        "colab": {
          "base_uri": "https://localhost:8080/"
        },
        "id": "JIeiZLlTOpLH",
        "outputId": "e4503709-1e2d-4ecc-adf4-6ae33cfa849c"
      },
      "execution_count": null,
      "outputs": [
        {
          "output_type": "stream",
          "name": "stdout",
          "text": [
            "Accuracy: 0.9313725490196079\n",
            "Precision: 0.9636363636363636\n",
            "Recall: 0.9137931034482759\n"
          ]
        }
      ]
    },
    {
      "cell_type": "markdown",
      "source": [
        "## ***XGBOOST***"
      ],
      "metadata": {
        "id": "XlzudeTvURRE"
      }
    },
    {
      "cell_type": "code",
      "source": [
        "from sklearn.ensemble import GradientBoostingClassifier\n",
        "abc = GradientBoostingClassifier(n_estimators=100, learning_rate=1.0, max_depth=1, random_state=0).fit(X_train, y_train)"
      ],
      "metadata": {
        "id": "8I6_z__QUTcH"
      },
      "execution_count": null,
      "outputs": []
    },
    {
      "cell_type": "code",
      "source": [
        "y_pred8= abc.predict(X_test)  "
      ],
      "metadata": {
        "id": "-uiyytTBUb0q"
      },
      "execution_count": null,
      "outputs": []
    },
    {
      "cell_type": "code",
      "source": [
        "from sklearn import metrics\n",
        "print(\"Accuracy:\",metrics.accuracy_score(y_test, y_pred8))\n",
        "print(\"Precision:\",metrics.precision_score(y_test, y_pred8))\n",
        "print(\"Recall:\",metrics.recall_score(y_test, y_pred8))"
      ],
      "metadata": {
        "colab": {
          "base_uri": "https://localhost:8080/"
        },
        "id": "mmAA_v6qUgaW",
        "outputId": "3f0b6dba-1540-4727-acfa-b0499a6825ce"
      },
      "execution_count": null,
      "outputs": [
        {
          "output_type": "stream",
          "name": "stdout",
          "text": [
            "Accuracy: 0.9117647058823529\n",
            "Precision: 0.9454545454545454\n",
            "Recall: 0.896551724137931\n"
          ]
        }
      ]
    }
  ]
}